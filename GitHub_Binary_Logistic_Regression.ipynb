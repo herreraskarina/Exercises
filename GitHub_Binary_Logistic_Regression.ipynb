{
  "nbformat": 4,
  "nbformat_minor": 0,
  "metadata": {
    "colab": {
      "provenance": [],
      "include_colab_link": true
    },
    "kernelspec": {
      "name": "python3",
      "display_name": "Python 3"
    },
    "language_info": {
      "name": "python"
    }
  },
  "cells": [
    {
      "cell_type": "markdown",
      "metadata": {
        "id": "view-in-github",
        "colab_type": "text"
      },
      "source": [
        "<a href=\"https://colab.research.google.com/github/herreraskarina/Exercises/blob/main/GitHub_Binary_Logistic_Regression.ipynb\" target=\"_parent\"><img src=\"https://colab.research.google.com/assets/colab-badge.svg\" alt=\"Open In Colab\"/></a>"
      ]
    },
    {
      "cell_type": "markdown",
      "source": [
        "# Binary Logistic Regression\n",
        "\n",
        "Dataset about credit card fraud obtained from [kaggle](https://www.kaggle.com/datasets/dhanushnarayananr/credit-card-fraud?select=card_transdata.csv).\n",
        "\n",
        "This dataset has the following variables:\n",
        "\n",
        "* distance_from_home - distance between home and the place where the transaction was made.\n",
        "\n",
        "* distance_from_last_transaction - the distance from the location where the last transaction took place.\n",
        "\n",
        "* ratio_to_median_purchase_price - Ratio between transaction price and average transaction price.\n",
        "\n",
        "* repeat_retailer - Whether the transaction took place at the same store.\n",
        "\n",
        "* used_chip - Whether the transaction was made with a credit card.\n",
        "\n",
        "* used_pin_number - Whether the transaction took place using PIN number.\n",
        "\n",
        "* online_order - Whether the transaction was online.\n",
        "\n",
        "* fraud - Whether the transaction is fraudulent.\n"
      ],
      "metadata": {
        "id": "bPYgc7UHk8Wt"
      }
    },
    {
      "cell_type": "markdown",
      "source": [
        "## Activity 1: Load the data and check for missing data. If so, proceed with the treatment you deem appropriate."
      ],
      "metadata": {
        "id": "ynczv8RdtupL"
      }
    },
    {
      "cell_type": "code",
      "source": [
        "# importing libraries\n",
        "import pandas as pd\n",
        "import seaborn as sns\n",
        "import statsmodels.api as sm\n",
        "import matplotlib.pyplot as plt\n",
        "import numpy as np"
      ],
      "metadata": {
        "id": "dvoM8Ok4wsde"
      },
      "execution_count": 60,
      "outputs": []
    },
    {
      "cell_type": "code",
      "source": [
        "# importing data\n",
        "from google.colab import drive\n",
        "drive.mount('/content/drive')\n",
        "# creating dataset\n",
        "df = pd.read_csv('/content/drive/MyDrive/card_transdata.csv')\n",
        "# checking basic information about the dataset\n",
        "df.info()"
      ],
      "metadata": {
        "id": "y4uD071Xj9_V",
        "colab": {
          "base_uri": "https://localhost:8080/"
        },
        "outputId": "b2dcc39b-286e-4bc8-cc0f-3513f2ebdd55"
      },
      "execution_count": 61,
      "outputs": [
        {
          "output_type": "stream",
          "name": "stdout",
          "text": [
            "Drive already mounted at /content/drive; to attempt to forcibly remount, call drive.mount(\"/content/drive\", force_remount=True).\n",
            "<class 'pandas.core.frame.DataFrame'>\n",
            "RangeIndex: 1000000 entries, 0 to 999999\n",
            "Data columns (total 8 columns):\n",
            " #   Column                          Non-Null Count    Dtype  \n",
            "---  ------                          --------------    -----  \n",
            " 0   distance_from_home              1000000 non-null  float64\n",
            " 1   distance_from_last_transaction  1000000 non-null  float64\n",
            " 2   ratio_to_median_purchase_price  1000000 non-null  float64\n",
            " 3   repeat_retailer                 1000000 non-null  float64\n",
            " 4   used_chip                       1000000 non-null  float64\n",
            " 5   used_pin_number                 1000000 non-null  float64\n",
            " 6   online_order                    1000000 non-null  float64\n",
            " 7   fraud                           1000000 non-null  float64\n",
            "dtypes: float64(8)\n",
            "memory usage: 61.0 MB\n"
          ]
        }
      ]
    },
    {
      "cell_type": "code",
      "source": [
        "# checking for null data in the dataset\n",
        "df.isna().sum()"
      ],
      "metadata": {
        "id": "OGGvBh-Wj96l",
        "colab": {
          "base_uri": "https://localhost:8080/"
        },
        "outputId": "3a1600dc-da4d-4c2c-e471-16f7cb5ab2af"
      },
      "execution_count": 62,
      "outputs": [
        {
          "output_type": "execute_result",
          "data": {
            "text/plain": [
              "distance_from_home                0\n",
              "distance_from_last_transaction    0\n",
              "ratio_to_median_purchase_price    0\n",
              "repeat_retailer                   0\n",
              "used_chip                         0\n",
              "used_pin_number                   0\n",
              "online_order                      0\n",
              "fraud                             0\n",
              "dtype: int64"
            ]
          },
          "metadata": {},
          "execution_count": 62
        }
      ]
    },
    {
      "cell_type": "code",
      "source": [
        "# observing the values of the variables\n",
        "df.describe()"
      ],
      "metadata": {
        "id": "L3Z9Nu68ODjn",
        "colab": {
          "base_uri": "https://localhost:8080/",
          "height": 320
        },
        "outputId": "785bfa00-3f06-46d3-feb2-a3ad52668dc3"
      },
      "execution_count": 63,
      "outputs": [
        {
          "output_type": "execute_result",
          "data": {
            "text/plain": [
              "       distance_from_home  distance_from_last_transaction  \\\n",
              "count      1000000.000000                  1000000.000000   \n",
              "mean            26.628792                        5.036519   \n",
              "std             65.390784                       25.843093   \n",
              "min              0.004874                        0.000118   \n",
              "25%              3.878008                        0.296671   \n",
              "50%              9.967760                        0.998650   \n",
              "75%             25.743985                        3.355748   \n",
              "max          10632.723672                    11851.104565   \n",
              "\n",
              "       ratio_to_median_purchase_price  repeat_retailer       used_chip  \\\n",
              "count                  1000000.000000   1000000.000000  1000000.000000   \n",
              "mean                         1.824182         0.881536        0.350399   \n",
              "std                          2.799589         0.323157        0.477095   \n",
              "min                          0.004399         0.000000        0.000000   \n",
              "25%                          0.475673         1.000000        0.000000   \n",
              "50%                          0.997717         1.000000        0.000000   \n",
              "75%                          2.096370         1.000000        1.000000   \n",
              "max                        267.802942         1.000000        1.000000   \n",
              "\n",
              "       used_pin_number    online_order           fraud  \n",
              "count   1000000.000000  1000000.000000  1000000.000000  \n",
              "mean          0.100608        0.650552        0.087403  \n",
              "std           0.300809        0.476796        0.282425  \n",
              "min           0.000000        0.000000        0.000000  \n",
              "25%           0.000000        0.000000        0.000000  \n",
              "50%           0.000000        1.000000        0.000000  \n",
              "75%           0.000000        1.000000        0.000000  \n",
              "max           1.000000        1.000000        1.000000  "
            ],
            "text/html": [
              "\n",
              "  <div id=\"df-af600a74-11d0-4654-9bce-77ba17e0a25f\" class=\"colab-df-container\">\n",
              "    <div>\n",
              "<style scoped>\n",
              "    .dataframe tbody tr th:only-of-type {\n",
              "        vertical-align: middle;\n",
              "    }\n",
              "\n",
              "    .dataframe tbody tr th {\n",
              "        vertical-align: top;\n",
              "    }\n",
              "\n",
              "    .dataframe thead th {\n",
              "        text-align: right;\n",
              "    }\n",
              "</style>\n",
              "<table border=\"1\" class=\"dataframe\">\n",
              "  <thead>\n",
              "    <tr style=\"text-align: right;\">\n",
              "      <th></th>\n",
              "      <th>distance_from_home</th>\n",
              "      <th>distance_from_last_transaction</th>\n",
              "      <th>ratio_to_median_purchase_price</th>\n",
              "      <th>repeat_retailer</th>\n",
              "      <th>used_chip</th>\n",
              "      <th>used_pin_number</th>\n",
              "      <th>online_order</th>\n",
              "      <th>fraud</th>\n",
              "    </tr>\n",
              "  </thead>\n",
              "  <tbody>\n",
              "    <tr>\n",
              "      <th>count</th>\n",
              "      <td>1000000.000000</td>\n",
              "      <td>1000000.000000</td>\n",
              "      <td>1000000.000000</td>\n",
              "      <td>1000000.000000</td>\n",
              "      <td>1000000.000000</td>\n",
              "      <td>1000000.000000</td>\n",
              "      <td>1000000.000000</td>\n",
              "      <td>1000000.000000</td>\n",
              "    </tr>\n",
              "    <tr>\n",
              "      <th>mean</th>\n",
              "      <td>26.628792</td>\n",
              "      <td>5.036519</td>\n",
              "      <td>1.824182</td>\n",
              "      <td>0.881536</td>\n",
              "      <td>0.350399</td>\n",
              "      <td>0.100608</td>\n",
              "      <td>0.650552</td>\n",
              "      <td>0.087403</td>\n",
              "    </tr>\n",
              "    <tr>\n",
              "      <th>std</th>\n",
              "      <td>65.390784</td>\n",
              "      <td>25.843093</td>\n",
              "      <td>2.799589</td>\n",
              "      <td>0.323157</td>\n",
              "      <td>0.477095</td>\n",
              "      <td>0.300809</td>\n",
              "      <td>0.476796</td>\n",
              "      <td>0.282425</td>\n",
              "    </tr>\n",
              "    <tr>\n",
              "      <th>min</th>\n",
              "      <td>0.004874</td>\n",
              "      <td>0.000118</td>\n",
              "      <td>0.004399</td>\n",
              "      <td>0.000000</td>\n",
              "      <td>0.000000</td>\n",
              "      <td>0.000000</td>\n",
              "      <td>0.000000</td>\n",
              "      <td>0.000000</td>\n",
              "    </tr>\n",
              "    <tr>\n",
              "      <th>25%</th>\n",
              "      <td>3.878008</td>\n",
              "      <td>0.296671</td>\n",
              "      <td>0.475673</td>\n",
              "      <td>1.000000</td>\n",
              "      <td>0.000000</td>\n",
              "      <td>0.000000</td>\n",
              "      <td>0.000000</td>\n",
              "      <td>0.000000</td>\n",
              "    </tr>\n",
              "    <tr>\n",
              "      <th>50%</th>\n",
              "      <td>9.967760</td>\n",
              "      <td>0.998650</td>\n",
              "      <td>0.997717</td>\n",
              "      <td>1.000000</td>\n",
              "      <td>0.000000</td>\n",
              "      <td>0.000000</td>\n",
              "      <td>1.000000</td>\n",
              "      <td>0.000000</td>\n",
              "    </tr>\n",
              "    <tr>\n",
              "      <th>75%</th>\n",
              "      <td>25.743985</td>\n",
              "      <td>3.355748</td>\n",
              "      <td>2.096370</td>\n",
              "      <td>1.000000</td>\n",
              "      <td>1.000000</td>\n",
              "      <td>0.000000</td>\n",
              "      <td>1.000000</td>\n",
              "      <td>0.000000</td>\n",
              "    </tr>\n",
              "    <tr>\n",
              "      <th>max</th>\n",
              "      <td>10632.723672</td>\n",
              "      <td>11851.104565</td>\n",
              "      <td>267.802942</td>\n",
              "      <td>1.000000</td>\n",
              "      <td>1.000000</td>\n",
              "      <td>1.000000</td>\n",
              "      <td>1.000000</td>\n",
              "      <td>1.000000</td>\n",
              "    </tr>\n",
              "  </tbody>\n",
              "</table>\n",
              "</div>\n",
              "    <div class=\"colab-df-buttons\">\n",
              "\n",
              "  <div class=\"colab-df-container\">\n",
              "    <button class=\"colab-df-convert\" onclick=\"convertToInteractive('df-af600a74-11d0-4654-9bce-77ba17e0a25f')\"\n",
              "            title=\"Convert this dataframe to an interactive table.\"\n",
              "            style=\"display:none;\">\n",
              "\n",
              "  <svg xmlns=\"http://www.w3.org/2000/svg\" height=\"24px\" viewBox=\"0 -960 960 960\">\n",
              "    <path d=\"M120-120v-720h720v720H120Zm60-500h600v-160H180v160Zm220 220h160v-160H400v160Zm0 220h160v-160H400v160ZM180-400h160v-160H180v160Zm440 0h160v-160H620v160ZM180-180h160v-160H180v160Zm440 0h160v-160H620v160Z\"/>\n",
              "  </svg>\n",
              "    </button>\n",
              "\n",
              "  <style>\n",
              "    .colab-df-container {\n",
              "      display:flex;\n",
              "      gap: 12px;\n",
              "    }\n",
              "\n",
              "    .colab-df-convert {\n",
              "      background-color: #E8F0FE;\n",
              "      border: none;\n",
              "      border-radius: 50%;\n",
              "      cursor: pointer;\n",
              "      display: none;\n",
              "      fill: #1967D2;\n",
              "      height: 32px;\n",
              "      padding: 0 0 0 0;\n",
              "      width: 32px;\n",
              "    }\n",
              "\n",
              "    .colab-df-convert:hover {\n",
              "      background-color: #E2EBFA;\n",
              "      box-shadow: 0px 1px 2px rgba(60, 64, 67, 0.3), 0px 1px 3px 1px rgba(60, 64, 67, 0.15);\n",
              "      fill: #174EA6;\n",
              "    }\n",
              "\n",
              "    .colab-df-buttons div {\n",
              "      margin-bottom: 4px;\n",
              "    }\n",
              "\n",
              "    [theme=dark] .colab-df-convert {\n",
              "      background-color: #3B4455;\n",
              "      fill: #D2E3FC;\n",
              "    }\n",
              "\n",
              "    [theme=dark] .colab-df-convert:hover {\n",
              "      background-color: #434B5C;\n",
              "      box-shadow: 0px 1px 3px 1px rgba(0, 0, 0, 0.15);\n",
              "      filter: drop-shadow(0px 1px 2px rgba(0, 0, 0, 0.3));\n",
              "      fill: #FFFFFF;\n",
              "    }\n",
              "  </style>\n",
              "\n",
              "    <script>\n",
              "      const buttonEl =\n",
              "        document.querySelector('#df-af600a74-11d0-4654-9bce-77ba17e0a25f button.colab-df-convert');\n",
              "      buttonEl.style.display =\n",
              "        google.colab.kernel.accessAllowed ? 'block' : 'none';\n",
              "\n",
              "      async function convertToInteractive(key) {\n",
              "        const element = document.querySelector('#df-af600a74-11d0-4654-9bce-77ba17e0a25f');\n",
              "        const dataTable =\n",
              "          await google.colab.kernel.invokeFunction('convertToInteractive',\n",
              "                                                    [key], {});\n",
              "        if (!dataTable) return;\n",
              "\n",
              "        const docLinkHtml = 'Like what you see? Visit the ' +\n",
              "          '<a target=\"_blank\" href=https://colab.research.google.com/notebooks/data_table.ipynb>data table notebook</a>'\n",
              "          + ' to learn more about interactive tables.';\n",
              "        element.innerHTML = '';\n",
              "        dataTable['output_type'] = 'display_data';\n",
              "        await google.colab.output.renderOutput(dataTable, element);\n",
              "        const docLink = document.createElement('div');\n",
              "        docLink.innerHTML = docLinkHtml;\n",
              "        element.appendChild(docLink);\n",
              "      }\n",
              "    </script>\n",
              "  </div>\n",
              "\n",
              "\n",
              "<div id=\"df-096dff2b-99f5-4962-81a4-377173d70273\">\n",
              "  <button class=\"colab-df-quickchart\" onclick=\"quickchart('df-096dff2b-99f5-4962-81a4-377173d70273')\"\n",
              "            title=\"Suggest charts\"\n",
              "            style=\"display:none;\">\n",
              "\n",
              "<svg xmlns=\"http://www.w3.org/2000/svg\" height=\"24px\"viewBox=\"0 0 24 24\"\n",
              "     width=\"24px\">\n",
              "    <g>\n",
              "        <path d=\"M19 3H5c-1.1 0-2 .9-2 2v14c0 1.1.9 2 2 2h14c1.1 0 2-.9 2-2V5c0-1.1-.9-2-2-2zM9 17H7v-7h2v7zm4 0h-2V7h2v10zm4 0h-2v-4h2v4z\"/>\n",
              "    </g>\n",
              "</svg>\n",
              "  </button>\n",
              "\n",
              "<style>\n",
              "  .colab-df-quickchart {\n",
              "      --bg-color: #E8F0FE;\n",
              "      --fill-color: #1967D2;\n",
              "      --hover-bg-color: #E2EBFA;\n",
              "      --hover-fill-color: #174EA6;\n",
              "      --disabled-fill-color: #AAA;\n",
              "      --disabled-bg-color: #DDD;\n",
              "  }\n",
              "\n",
              "  [theme=dark] .colab-df-quickchart {\n",
              "      --bg-color: #3B4455;\n",
              "      --fill-color: #D2E3FC;\n",
              "      --hover-bg-color: #434B5C;\n",
              "      --hover-fill-color: #FFFFFF;\n",
              "      --disabled-bg-color: #3B4455;\n",
              "      --disabled-fill-color: #666;\n",
              "  }\n",
              "\n",
              "  .colab-df-quickchart {\n",
              "    background-color: var(--bg-color);\n",
              "    border: none;\n",
              "    border-radius: 50%;\n",
              "    cursor: pointer;\n",
              "    display: none;\n",
              "    fill: var(--fill-color);\n",
              "    height: 32px;\n",
              "    padding: 0;\n",
              "    width: 32px;\n",
              "  }\n",
              "\n",
              "  .colab-df-quickchart:hover {\n",
              "    background-color: var(--hover-bg-color);\n",
              "    box-shadow: 0 1px 2px rgba(60, 64, 67, 0.3), 0 1px 3px 1px rgba(60, 64, 67, 0.15);\n",
              "    fill: var(--button-hover-fill-color);\n",
              "  }\n",
              "\n",
              "  .colab-df-quickchart-complete:disabled,\n",
              "  .colab-df-quickchart-complete:disabled:hover {\n",
              "    background-color: var(--disabled-bg-color);\n",
              "    fill: var(--disabled-fill-color);\n",
              "    box-shadow: none;\n",
              "  }\n",
              "\n",
              "  .colab-df-spinner {\n",
              "    border: 2px solid var(--fill-color);\n",
              "    border-color: transparent;\n",
              "    border-bottom-color: var(--fill-color);\n",
              "    animation:\n",
              "      spin 1s steps(1) infinite;\n",
              "  }\n",
              "\n",
              "  @keyframes spin {\n",
              "    0% {\n",
              "      border-color: transparent;\n",
              "      border-bottom-color: var(--fill-color);\n",
              "      border-left-color: var(--fill-color);\n",
              "    }\n",
              "    20% {\n",
              "      border-color: transparent;\n",
              "      border-left-color: var(--fill-color);\n",
              "      border-top-color: var(--fill-color);\n",
              "    }\n",
              "    30% {\n",
              "      border-color: transparent;\n",
              "      border-left-color: var(--fill-color);\n",
              "      border-top-color: var(--fill-color);\n",
              "      border-right-color: var(--fill-color);\n",
              "    }\n",
              "    40% {\n",
              "      border-color: transparent;\n",
              "      border-right-color: var(--fill-color);\n",
              "      border-top-color: var(--fill-color);\n",
              "    }\n",
              "    60% {\n",
              "      border-color: transparent;\n",
              "      border-right-color: var(--fill-color);\n",
              "    }\n",
              "    80% {\n",
              "      border-color: transparent;\n",
              "      border-right-color: var(--fill-color);\n",
              "      border-bottom-color: var(--fill-color);\n",
              "    }\n",
              "    90% {\n",
              "      border-color: transparent;\n",
              "      border-bottom-color: var(--fill-color);\n",
              "    }\n",
              "  }\n",
              "</style>\n",
              "\n",
              "  <script>\n",
              "    async function quickchart(key) {\n",
              "      const quickchartButtonEl =\n",
              "        document.querySelector('#' + key + ' button');\n",
              "      quickchartButtonEl.disabled = true;  // To prevent multiple clicks.\n",
              "      quickchartButtonEl.classList.add('colab-df-spinner');\n",
              "      try {\n",
              "        const charts = await google.colab.kernel.invokeFunction(\n",
              "            'suggestCharts', [key], {});\n",
              "      } catch (error) {\n",
              "        console.error('Error during call to suggestCharts:', error);\n",
              "      }\n",
              "      quickchartButtonEl.classList.remove('colab-df-spinner');\n",
              "      quickchartButtonEl.classList.add('colab-df-quickchart-complete');\n",
              "    }\n",
              "    (() => {\n",
              "      let quickchartButtonEl =\n",
              "        document.querySelector('#df-096dff2b-99f5-4962-81a4-377173d70273 button');\n",
              "      quickchartButtonEl.style.display =\n",
              "        google.colab.kernel.accessAllowed ? 'block' : 'none';\n",
              "    })();\n",
              "  </script>\n",
              "</div>\n",
              "    </div>\n",
              "  </div>\n"
            ]
          },
          "metadata": {},
          "execution_count": 63
        }
      ]
    },
    {
      "cell_type": "code",
      "source": [
        "df.head()"
      ],
      "metadata": {
        "colab": {
          "base_uri": "https://localhost:8080/",
          "height": 226
        },
        "id": "unrcQzgXg43-",
        "outputId": "28677b8e-4bbb-4263-b763-3031d7379e8c"
      },
      "execution_count": 64,
      "outputs": [
        {
          "output_type": "execute_result",
          "data": {
            "text/plain": [
              "   distance_from_home  distance_from_last_transaction  \\\n",
              "0           57.877857                        0.311140   \n",
              "1           10.829943                        0.175592   \n",
              "2            5.091079                        0.805153   \n",
              "3            2.247564                        5.600044   \n",
              "4           44.190936                        0.566486   \n",
              "\n",
              "   ratio_to_median_purchase_price  repeat_retailer  used_chip  \\\n",
              "0                        1.945940              1.0        1.0   \n",
              "1                        1.294219              1.0        0.0   \n",
              "2                        0.427715              1.0        0.0   \n",
              "3                        0.362663              1.0        1.0   \n",
              "4                        2.222767              1.0        1.0   \n",
              "\n",
              "   used_pin_number  online_order  fraud  \n",
              "0              0.0           0.0    0.0  \n",
              "1              0.0           0.0    0.0  \n",
              "2              0.0           1.0    0.0  \n",
              "3              0.0           1.0    0.0  \n",
              "4              0.0           1.0    0.0  "
            ],
            "text/html": [
              "\n",
              "  <div id=\"df-162e5a2a-a301-492c-bae1-2ebd8d606c69\" class=\"colab-df-container\">\n",
              "    <div>\n",
              "<style scoped>\n",
              "    .dataframe tbody tr th:only-of-type {\n",
              "        vertical-align: middle;\n",
              "    }\n",
              "\n",
              "    .dataframe tbody tr th {\n",
              "        vertical-align: top;\n",
              "    }\n",
              "\n",
              "    .dataframe thead th {\n",
              "        text-align: right;\n",
              "    }\n",
              "</style>\n",
              "<table border=\"1\" class=\"dataframe\">\n",
              "  <thead>\n",
              "    <tr style=\"text-align: right;\">\n",
              "      <th></th>\n",
              "      <th>distance_from_home</th>\n",
              "      <th>distance_from_last_transaction</th>\n",
              "      <th>ratio_to_median_purchase_price</th>\n",
              "      <th>repeat_retailer</th>\n",
              "      <th>used_chip</th>\n",
              "      <th>used_pin_number</th>\n",
              "      <th>online_order</th>\n",
              "      <th>fraud</th>\n",
              "    </tr>\n",
              "  </thead>\n",
              "  <tbody>\n",
              "    <tr>\n",
              "      <th>0</th>\n",
              "      <td>57.877857</td>\n",
              "      <td>0.311140</td>\n",
              "      <td>1.945940</td>\n",
              "      <td>1.0</td>\n",
              "      <td>1.0</td>\n",
              "      <td>0.0</td>\n",
              "      <td>0.0</td>\n",
              "      <td>0.0</td>\n",
              "    </tr>\n",
              "    <tr>\n",
              "      <th>1</th>\n",
              "      <td>10.829943</td>\n",
              "      <td>0.175592</td>\n",
              "      <td>1.294219</td>\n",
              "      <td>1.0</td>\n",
              "      <td>0.0</td>\n",
              "      <td>0.0</td>\n",
              "      <td>0.0</td>\n",
              "      <td>0.0</td>\n",
              "    </tr>\n",
              "    <tr>\n",
              "      <th>2</th>\n",
              "      <td>5.091079</td>\n",
              "      <td>0.805153</td>\n",
              "      <td>0.427715</td>\n",
              "      <td>1.0</td>\n",
              "      <td>0.0</td>\n",
              "      <td>0.0</td>\n",
              "      <td>1.0</td>\n",
              "      <td>0.0</td>\n",
              "    </tr>\n",
              "    <tr>\n",
              "      <th>3</th>\n",
              "      <td>2.247564</td>\n",
              "      <td>5.600044</td>\n",
              "      <td>0.362663</td>\n",
              "      <td>1.0</td>\n",
              "      <td>1.0</td>\n",
              "      <td>0.0</td>\n",
              "      <td>1.0</td>\n",
              "      <td>0.0</td>\n",
              "    </tr>\n",
              "    <tr>\n",
              "      <th>4</th>\n",
              "      <td>44.190936</td>\n",
              "      <td>0.566486</td>\n",
              "      <td>2.222767</td>\n",
              "      <td>1.0</td>\n",
              "      <td>1.0</td>\n",
              "      <td>0.0</td>\n",
              "      <td>1.0</td>\n",
              "      <td>0.0</td>\n",
              "    </tr>\n",
              "  </tbody>\n",
              "</table>\n",
              "</div>\n",
              "    <div class=\"colab-df-buttons\">\n",
              "\n",
              "  <div class=\"colab-df-container\">\n",
              "    <button class=\"colab-df-convert\" onclick=\"convertToInteractive('df-162e5a2a-a301-492c-bae1-2ebd8d606c69')\"\n",
              "            title=\"Convert this dataframe to an interactive table.\"\n",
              "            style=\"display:none;\">\n",
              "\n",
              "  <svg xmlns=\"http://www.w3.org/2000/svg\" height=\"24px\" viewBox=\"0 -960 960 960\">\n",
              "    <path d=\"M120-120v-720h720v720H120Zm60-500h600v-160H180v160Zm220 220h160v-160H400v160Zm0 220h160v-160H400v160ZM180-400h160v-160H180v160Zm440 0h160v-160H620v160ZM180-180h160v-160H180v160Zm440 0h160v-160H620v160Z\"/>\n",
              "  </svg>\n",
              "    </button>\n",
              "\n",
              "  <style>\n",
              "    .colab-df-container {\n",
              "      display:flex;\n",
              "      gap: 12px;\n",
              "    }\n",
              "\n",
              "    .colab-df-convert {\n",
              "      background-color: #E8F0FE;\n",
              "      border: none;\n",
              "      border-radius: 50%;\n",
              "      cursor: pointer;\n",
              "      display: none;\n",
              "      fill: #1967D2;\n",
              "      height: 32px;\n",
              "      padding: 0 0 0 0;\n",
              "      width: 32px;\n",
              "    }\n",
              "\n",
              "    .colab-df-convert:hover {\n",
              "      background-color: #E2EBFA;\n",
              "      box-shadow: 0px 1px 2px rgba(60, 64, 67, 0.3), 0px 1px 3px 1px rgba(60, 64, 67, 0.15);\n",
              "      fill: #174EA6;\n",
              "    }\n",
              "\n",
              "    .colab-df-buttons div {\n",
              "      margin-bottom: 4px;\n",
              "    }\n",
              "\n",
              "    [theme=dark] .colab-df-convert {\n",
              "      background-color: #3B4455;\n",
              "      fill: #D2E3FC;\n",
              "    }\n",
              "\n",
              "    [theme=dark] .colab-df-convert:hover {\n",
              "      background-color: #434B5C;\n",
              "      box-shadow: 0px 1px 3px 1px rgba(0, 0, 0, 0.15);\n",
              "      filter: drop-shadow(0px 1px 2px rgba(0, 0, 0, 0.3));\n",
              "      fill: #FFFFFF;\n",
              "    }\n",
              "  </style>\n",
              "\n",
              "    <script>\n",
              "      const buttonEl =\n",
              "        document.querySelector('#df-162e5a2a-a301-492c-bae1-2ebd8d606c69 button.colab-df-convert');\n",
              "      buttonEl.style.display =\n",
              "        google.colab.kernel.accessAllowed ? 'block' : 'none';\n",
              "\n",
              "      async function convertToInteractive(key) {\n",
              "        const element = document.querySelector('#df-162e5a2a-a301-492c-bae1-2ebd8d606c69');\n",
              "        const dataTable =\n",
              "          await google.colab.kernel.invokeFunction('convertToInteractive',\n",
              "                                                    [key], {});\n",
              "        if (!dataTable) return;\n",
              "\n",
              "        const docLinkHtml = 'Like what you see? Visit the ' +\n",
              "          '<a target=\"_blank\" href=https://colab.research.google.com/notebooks/data_table.ipynb>data table notebook</a>'\n",
              "          + ' to learn more about interactive tables.';\n",
              "        element.innerHTML = '';\n",
              "        dataTable['output_type'] = 'display_data';\n",
              "        await google.colab.output.renderOutput(dataTable, element);\n",
              "        const docLink = document.createElement('div');\n",
              "        docLink.innerHTML = docLinkHtml;\n",
              "        element.appendChild(docLink);\n",
              "      }\n",
              "    </script>\n",
              "  </div>\n",
              "\n",
              "\n",
              "<div id=\"df-b41ed437-037a-4349-ab66-2eb038c36c7b\">\n",
              "  <button class=\"colab-df-quickchart\" onclick=\"quickchart('df-b41ed437-037a-4349-ab66-2eb038c36c7b')\"\n",
              "            title=\"Suggest charts\"\n",
              "            style=\"display:none;\">\n",
              "\n",
              "<svg xmlns=\"http://www.w3.org/2000/svg\" height=\"24px\"viewBox=\"0 0 24 24\"\n",
              "     width=\"24px\">\n",
              "    <g>\n",
              "        <path d=\"M19 3H5c-1.1 0-2 .9-2 2v14c0 1.1.9 2 2 2h14c1.1 0 2-.9 2-2V5c0-1.1-.9-2-2-2zM9 17H7v-7h2v7zm4 0h-2V7h2v10zm4 0h-2v-4h2v4z\"/>\n",
              "    </g>\n",
              "</svg>\n",
              "  </button>\n",
              "\n",
              "<style>\n",
              "  .colab-df-quickchart {\n",
              "      --bg-color: #E8F0FE;\n",
              "      --fill-color: #1967D2;\n",
              "      --hover-bg-color: #E2EBFA;\n",
              "      --hover-fill-color: #174EA6;\n",
              "      --disabled-fill-color: #AAA;\n",
              "      --disabled-bg-color: #DDD;\n",
              "  }\n",
              "\n",
              "  [theme=dark] .colab-df-quickchart {\n",
              "      --bg-color: #3B4455;\n",
              "      --fill-color: #D2E3FC;\n",
              "      --hover-bg-color: #434B5C;\n",
              "      --hover-fill-color: #FFFFFF;\n",
              "      --disabled-bg-color: #3B4455;\n",
              "      --disabled-fill-color: #666;\n",
              "  }\n",
              "\n",
              "  .colab-df-quickchart {\n",
              "    background-color: var(--bg-color);\n",
              "    border: none;\n",
              "    border-radius: 50%;\n",
              "    cursor: pointer;\n",
              "    display: none;\n",
              "    fill: var(--fill-color);\n",
              "    height: 32px;\n",
              "    padding: 0;\n",
              "    width: 32px;\n",
              "  }\n",
              "\n",
              "  .colab-df-quickchart:hover {\n",
              "    background-color: var(--hover-bg-color);\n",
              "    box-shadow: 0 1px 2px rgba(60, 64, 67, 0.3), 0 1px 3px 1px rgba(60, 64, 67, 0.15);\n",
              "    fill: var(--button-hover-fill-color);\n",
              "  }\n",
              "\n",
              "  .colab-df-quickchart-complete:disabled,\n",
              "  .colab-df-quickchart-complete:disabled:hover {\n",
              "    background-color: var(--disabled-bg-color);\n",
              "    fill: var(--disabled-fill-color);\n",
              "    box-shadow: none;\n",
              "  }\n",
              "\n",
              "  .colab-df-spinner {\n",
              "    border: 2px solid var(--fill-color);\n",
              "    border-color: transparent;\n",
              "    border-bottom-color: var(--fill-color);\n",
              "    animation:\n",
              "      spin 1s steps(1) infinite;\n",
              "  }\n",
              "\n",
              "  @keyframes spin {\n",
              "    0% {\n",
              "      border-color: transparent;\n",
              "      border-bottom-color: var(--fill-color);\n",
              "      border-left-color: var(--fill-color);\n",
              "    }\n",
              "    20% {\n",
              "      border-color: transparent;\n",
              "      border-left-color: var(--fill-color);\n",
              "      border-top-color: var(--fill-color);\n",
              "    }\n",
              "    30% {\n",
              "      border-color: transparent;\n",
              "      border-left-color: var(--fill-color);\n",
              "      border-top-color: var(--fill-color);\n",
              "      border-right-color: var(--fill-color);\n",
              "    }\n",
              "    40% {\n",
              "      border-color: transparent;\n",
              "      border-right-color: var(--fill-color);\n",
              "      border-top-color: var(--fill-color);\n",
              "    }\n",
              "    60% {\n",
              "      border-color: transparent;\n",
              "      border-right-color: var(--fill-color);\n",
              "    }\n",
              "    80% {\n",
              "      border-color: transparent;\n",
              "      border-right-color: var(--fill-color);\n",
              "      border-bottom-color: var(--fill-color);\n",
              "    }\n",
              "    90% {\n",
              "      border-color: transparent;\n",
              "      border-bottom-color: var(--fill-color);\n",
              "    }\n",
              "  }\n",
              "</style>\n",
              "\n",
              "  <script>\n",
              "    async function quickchart(key) {\n",
              "      const quickchartButtonEl =\n",
              "        document.querySelector('#' + key + ' button');\n",
              "      quickchartButtonEl.disabled = true;  // To prevent multiple clicks.\n",
              "      quickchartButtonEl.classList.add('colab-df-spinner');\n",
              "      try {\n",
              "        const charts = await google.colab.kernel.invokeFunction(\n",
              "            'suggestCharts', [key], {});\n",
              "      } catch (error) {\n",
              "        console.error('Error during call to suggestCharts:', error);\n",
              "      }\n",
              "      quickchartButtonEl.classList.remove('colab-df-spinner');\n",
              "      quickchartButtonEl.classList.add('colab-df-quickchart-complete');\n",
              "    }\n",
              "    (() => {\n",
              "      let quickchartButtonEl =\n",
              "        document.querySelector('#df-b41ed437-037a-4349-ab66-2eb038c36c7b button');\n",
              "      quickchartButtonEl.style.display =\n",
              "        google.colab.kernel.accessAllowed ? 'block' : 'none';\n",
              "    })();\n",
              "  </script>\n",
              "</div>\n",
              "    </div>\n",
              "  </div>\n"
            ]
          },
          "metadata": {},
          "execution_count": 64
        }
      ]
    },
    {
      "cell_type": "markdown",
      "source": [
        "## Activity 2: Select the variables you find interesting to try to predict whether or not there was fraud."
      ],
      "metadata": {
        "id": "r5ygMFXrDMjB"
      }
    },
    {
      "cell_type": "code",
      "source": [
        "# checking correlation among the variables\n",
        "df.corr()"
      ],
      "metadata": {
        "colab": {
          "base_uri": "https://localhost:8080/",
          "height": 320
        },
        "id": "u4Jzg7oMZV9y",
        "outputId": "20971f5f-c581-4503-93c7-242512b939b2"
      },
      "execution_count": 65,
      "outputs": [
        {
          "output_type": "execute_result",
          "data": {
            "text/plain": [
              "                                distance_from_home  \\\n",
              "distance_from_home                        1.000000   \n",
              "distance_from_last_transaction            0.000193   \n",
              "ratio_to_median_purchase_price           -0.001374   \n",
              "repeat_retailer                           0.143124   \n",
              "used_chip                                -0.000697   \n",
              "used_pin_number                          -0.001622   \n",
              "online_order                             -0.001301   \n",
              "fraud                                     0.187571   \n",
              "\n",
              "                                distance_from_last_transaction  \\\n",
              "distance_from_home                                    0.000193   \n",
              "distance_from_last_transaction                        1.000000   \n",
              "ratio_to_median_purchase_price                        0.001013   \n",
              "repeat_retailer                                      -0.000928   \n",
              "used_chip                                             0.002055   \n",
              "used_pin_number                                      -0.000899   \n",
              "online_order                                          0.000141   \n",
              "fraud                                                 0.091917   \n",
              "\n",
              "                                ratio_to_median_purchase_price  \\\n",
              "distance_from_home                                   -0.001374   \n",
              "distance_from_last_transaction                        0.001013   \n",
              "ratio_to_median_purchase_price                        1.000000   \n",
              "repeat_retailer                                       0.001374   \n",
              "used_chip                                             0.000587   \n",
              "used_pin_number                                       0.000942   \n",
              "online_order                                         -0.000330   \n",
              "fraud                                                 0.462305   \n",
              "\n",
              "                                repeat_retailer  used_chip  used_pin_number  \\\n",
              "distance_from_home                     0.143124  -0.000697        -0.001622   \n",
              "distance_from_last_transaction        -0.000928   0.002055        -0.000899   \n",
              "ratio_to_median_purchase_price         0.001374   0.000587         0.000942   \n",
              "repeat_retailer                        1.000000  -0.001345        -0.000417   \n",
              "used_chip                             -0.001345   1.000000        -0.001393   \n",
              "used_pin_number                       -0.000417  -0.001393         1.000000   \n",
              "online_order                          -0.000532  -0.000219        -0.000291   \n",
              "fraud                                 -0.001357  -0.060975        -0.100293   \n",
              "\n",
              "                                online_order     fraud  \n",
              "distance_from_home                 -0.001301  0.187571  \n",
              "distance_from_last_transaction      0.000141  0.091917  \n",
              "ratio_to_median_purchase_price     -0.000330  0.462305  \n",
              "repeat_retailer                    -0.000532 -0.001357  \n",
              "used_chip                          -0.000219 -0.060975  \n",
              "used_pin_number                    -0.000291 -0.100293  \n",
              "online_order                        1.000000  0.191973  \n",
              "fraud                               0.191973  1.000000  "
            ],
            "text/html": [
              "\n",
              "  <div id=\"df-d9d57d20-bd90-4842-be11-d5f810e064e4\" class=\"colab-df-container\">\n",
              "    <div>\n",
              "<style scoped>\n",
              "    .dataframe tbody tr th:only-of-type {\n",
              "        vertical-align: middle;\n",
              "    }\n",
              "\n",
              "    .dataframe tbody tr th {\n",
              "        vertical-align: top;\n",
              "    }\n",
              "\n",
              "    .dataframe thead th {\n",
              "        text-align: right;\n",
              "    }\n",
              "</style>\n",
              "<table border=\"1\" class=\"dataframe\">\n",
              "  <thead>\n",
              "    <tr style=\"text-align: right;\">\n",
              "      <th></th>\n",
              "      <th>distance_from_home</th>\n",
              "      <th>distance_from_last_transaction</th>\n",
              "      <th>ratio_to_median_purchase_price</th>\n",
              "      <th>repeat_retailer</th>\n",
              "      <th>used_chip</th>\n",
              "      <th>used_pin_number</th>\n",
              "      <th>online_order</th>\n",
              "      <th>fraud</th>\n",
              "    </tr>\n",
              "  </thead>\n",
              "  <tbody>\n",
              "    <tr>\n",
              "      <th>distance_from_home</th>\n",
              "      <td>1.000000</td>\n",
              "      <td>0.000193</td>\n",
              "      <td>-0.001374</td>\n",
              "      <td>0.143124</td>\n",
              "      <td>-0.000697</td>\n",
              "      <td>-0.001622</td>\n",
              "      <td>-0.001301</td>\n",
              "      <td>0.187571</td>\n",
              "    </tr>\n",
              "    <tr>\n",
              "      <th>distance_from_last_transaction</th>\n",
              "      <td>0.000193</td>\n",
              "      <td>1.000000</td>\n",
              "      <td>0.001013</td>\n",
              "      <td>-0.000928</td>\n",
              "      <td>0.002055</td>\n",
              "      <td>-0.000899</td>\n",
              "      <td>0.000141</td>\n",
              "      <td>0.091917</td>\n",
              "    </tr>\n",
              "    <tr>\n",
              "      <th>ratio_to_median_purchase_price</th>\n",
              "      <td>-0.001374</td>\n",
              "      <td>0.001013</td>\n",
              "      <td>1.000000</td>\n",
              "      <td>0.001374</td>\n",
              "      <td>0.000587</td>\n",
              "      <td>0.000942</td>\n",
              "      <td>-0.000330</td>\n",
              "      <td>0.462305</td>\n",
              "    </tr>\n",
              "    <tr>\n",
              "      <th>repeat_retailer</th>\n",
              "      <td>0.143124</td>\n",
              "      <td>-0.000928</td>\n",
              "      <td>0.001374</td>\n",
              "      <td>1.000000</td>\n",
              "      <td>-0.001345</td>\n",
              "      <td>-0.000417</td>\n",
              "      <td>-0.000532</td>\n",
              "      <td>-0.001357</td>\n",
              "    </tr>\n",
              "    <tr>\n",
              "      <th>used_chip</th>\n",
              "      <td>-0.000697</td>\n",
              "      <td>0.002055</td>\n",
              "      <td>0.000587</td>\n",
              "      <td>-0.001345</td>\n",
              "      <td>1.000000</td>\n",
              "      <td>-0.001393</td>\n",
              "      <td>-0.000219</td>\n",
              "      <td>-0.060975</td>\n",
              "    </tr>\n",
              "    <tr>\n",
              "      <th>used_pin_number</th>\n",
              "      <td>-0.001622</td>\n",
              "      <td>-0.000899</td>\n",
              "      <td>0.000942</td>\n",
              "      <td>-0.000417</td>\n",
              "      <td>-0.001393</td>\n",
              "      <td>1.000000</td>\n",
              "      <td>-0.000291</td>\n",
              "      <td>-0.100293</td>\n",
              "    </tr>\n",
              "    <tr>\n",
              "      <th>online_order</th>\n",
              "      <td>-0.001301</td>\n",
              "      <td>0.000141</td>\n",
              "      <td>-0.000330</td>\n",
              "      <td>-0.000532</td>\n",
              "      <td>-0.000219</td>\n",
              "      <td>-0.000291</td>\n",
              "      <td>1.000000</td>\n",
              "      <td>0.191973</td>\n",
              "    </tr>\n",
              "    <tr>\n",
              "      <th>fraud</th>\n",
              "      <td>0.187571</td>\n",
              "      <td>0.091917</td>\n",
              "      <td>0.462305</td>\n",
              "      <td>-0.001357</td>\n",
              "      <td>-0.060975</td>\n",
              "      <td>-0.100293</td>\n",
              "      <td>0.191973</td>\n",
              "      <td>1.000000</td>\n",
              "    </tr>\n",
              "  </tbody>\n",
              "</table>\n",
              "</div>\n",
              "    <div class=\"colab-df-buttons\">\n",
              "\n",
              "  <div class=\"colab-df-container\">\n",
              "    <button class=\"colab-df-convert\" onclick=\"convertToInteractive('df-d9d57d20-bd90-4842-be11-d5f810e064e4')\"\n",
              "            title=\"Convert this dataframe to an interactive table.\"\n",
              "            style=\"display:none;\">\n",
              "\n",
              "  <svg xmlns=\"http://www.w3.org/2000/svg\" height=\"24px\" viewBox=\"0 -960 960 960\">\n",
              "    <path d=\"M120-120v-720h720v720H120Zm60-500h600v-160H180v160Zm220 220h160v-160H400v160Zm0 220h160v-160H400v160ZM180-400h160v-160H180v160Zm440 0h160v-160H620v160ZM180-180h160v-160H180v160Zm440 0h160v-160H620v160Z\"/>\n",
              "  </svg>\n",
              "    </button>\n",
              "\n",
              "  <style>\n",
              "    .colab-df-container {\n",
              "      display:flex;\n",
              "      gap: 12px;\n",
              "    }\n",
              "\n",
              "    .colab-df-convert {\n",
              "      background-color: #E8F0FE;\n",
              "      border: none;\n",
              "      border-radius: 50%;\n",
              "      cursor: pointer;\n",
              "      display: none;\n",
              "      fill: #1967D2;\n",
              "      height: 32px;\n",
              "      padding: 0 0 0 0;\n",
              "      width: 32px;\n",
              "    }\n",
              "\n",
              "    .colab-df-convert:hover {\n",
              "      background-color: #E2EBFA;\n",
              "      box-shadow: 0px 1px 2px rgba(60, 64, 67, 0.3), 0px 1px 3px 1px rgba(60, 64, 67, 0.15);\n",
              "      fill: #174EA6;\n",
              "    }\n",
              "\n",
              "    .colab-df-buttons div {\n",
              "      margin-bottom: 4px;\n",
              "    }\n",
              "\n",
              "    [theme=dark] .colab-df-convert {\n",
              "      background-color: #3B4455;\n",
              "      fill: #D2E3FC;\n",
              "    }\n",
              "\n",
              "    [theme=dark] .colab-df-convert:hover {\n",
              "      background-color: #434B5C;\n",
              "      box-shadow: 0px 1px 3px 1px rgba(0, 0, 0, 0.15);\n",
              "      filter: drop-shadow(0px 1px 2px rgba(0, 0, 0, 0.3));\n",
              "      fill: #FFFFFF;\n",
              "    }\n",
              "  </style>\n",
              "\n",
              "    <script>\n",
              "      const buttonEl =\n",
              "        document.querySelector('#df-d9d57d20-bd90-4842-be11-d5f810e064e4 button.colab-df-convert');\n",
              "      buttonEl.style.display =\n",
              "        google.colab.kernel.accessAllowed ? 'block' : 'none';\n",
              "\n",
              "      async function convertToInteractive(key) {\n",
              "        const element = document.querySelector('#df-d9d57d20-bd90-4842-be11-d5f810e064e4');\n",
              "        const dataTable =\n",
              "          await google.colab.kernel.invokeFunction('convertToInteractive',\n",
              "                                                    [key], {});\n",
              "        if (!dataTable) return;\n",
              "\n",
              "        const docLinkHtml = 'Like what you see? Visit the ' +\n",
              "          '<a target=\"_blank\" href=https://colab.research.google.com/notebooks/data_table.ipynb>data table notebook</a>'\n",
              "          + ' to learn more about interactive tables.';\n",
              "        element.innerHTML = '';\n",
              "        dataTable['output_type'] = 'display_data';\n",
              "        await google.colab.output.renderOutput(dataTable, element);\n",
              "        const docLink = document.createElement('div');\n",
              "        docLink.innerHTML = docLinkHtml;\n",
              "        element.appendChild(docLink);\n",
              "      }\n",
              "    </script>\n",
              "  </div>\n",
              "\n",
              "\n",
              "<div id=\"df-23f1e673-ecae-4e1f-ab1e-2a19e3e2f640\">\n",
              "  <button class=\"colab-df-quickchart\" onclick=\"quickchart('df-23f1e673-ecae-4e1f-ab1e-2a19e3e2f640')\"\n",
              "            title=\"Suggest charts\"\n",
              "            style=\"display:none;\">\n",
              "\n",
              "<svg xmlns=\"http://www.w3.org/2000/svg\" height=\"24px\"viewBox=\"0 0 24 24\"\n",
              "     width=\"24px\">\n",
              "    <g>\n",
              "        <path d=\"M19 3H5c-1.1 0-2 .9-2 2v14c0 1.1.9 2 2 2h14c1.1 0 2-.9 2-2V5c0-1.1-.9-2-2-2zM9 17H7v-7h2v7zm4 0h-2V7h2v10zm4 0h-2v-4h2v4z\"/>\n",
              "    </g>\n",
              "</svg>\n",
              "  </button>\n",
              "\n",
              "<style>\n",
              "  .colab-df-quickchart {\n",
              "      --bg-color: #E8F0FE;\n",
              "      --fill-color: #1967D2;\n",
              "      --hover-bg-color: #E2EBFA;\n",
              "      --hover-fill-color: #174EA6;\n",
              "      --disabled-fill-color: #AAA;\n",
              "      --disabled-bg-color: #DDD;\n",
              "  }\n",
              "\n",
              "  [theme=dark] .colab-df-quickchart {\n",
              "      --bg-color: #3B4455;\n",
              "      --fill-color: #D2E3FC;\n",
              "      --hover-bg-color: #434B5C;\n",
              "      --hover-fill-color: #FFFFFF;\n",
              "      --disabled-bg-color: #3B4455;\n",
              "      --disabled-fill-color: #666;\n",
              "  }\n",
              "\n",
              "  .colab-df-quickchart {\n",
              "    background-color: var(--bg-color);\n",
              "    border: none;\n",
              "    border-radius: 50%;\n",
              "    cursor: pointer;\n",
              "    display: none;\n",
              "    fill: var(--fill-color);\n",
              "    height: 32px;\n",
              "    padding: 0;\n",
              "    width: 32px;\n",
              "  }\n",
              "\n",
              "  .colab-df-quickchart:hover {\n",
              "    background-color: var(--hover-bg-color);\n",
              "    box-shadow: 0 1px 2px rgba(60, 64, 67, 0.3), 0 1px 3px 1px rgba(60, 64, 67, 0.15);\n",
              "    fill: var(--button-hover-fill-color);\n",
              "  }\n",
              "\n",
              "  .colab-df-quickchart-complete:disabled,\n",
              "  .colab-df-quickchart-complete:disabled:hover {\n",
              "    background-color: var(--disabled-bg-color);\n",
              "    fill: var(--disabled-fill-color);\n",
              "    box-shadow: none;\n",
              "  }\n",
              "\n",
              "  .colab-df-spinner {\n",
              "    border: 2px solid var(--fill-color);\n",
              "    border-color: transparent;\n",
              "    border-bottom-color: var(--fill-color);\n",
              "    animation:\n",
              "      spin 1s steps(1) infinite;\n",
              "  }\n",
              "\n",
              "  @keyframes spin {\n",
              "    0% {\n",
              "      border-color: transparent;\n",
              "      border-bottom-color: var(--fill-color);\n",
              "      border-left-color: var(--fill-color);\n",
              "    }\n",
              "    20% {\n",
              "      border-color: transparent;\n",
              "      border-left-color: var(--fill-color);\n",
              "      border-top-color: var(--fill-color);\n",
              "    }\n",
              "    30% {\n",
              "      border-color: transparent;\n",
              "      border-left-color: var(--fill-color);\n",
              "      border-top-color: var(--fill-color);\n",
              "      border-right-color: var(--fill-color);\n",
              "    }\n",
              "    40% {\n",
              "      border-color: transparent;\n",
              "      border-right-color: var(--fill-color);\n",
              "      border-top-color: var(--fill-color);\n",
              "    }\n",
              "    60% {\n",
              "      border-color: transparent;\n",
              "      border-right-color: var(--fill-color);\n",
              "    }\n",
              "    80% {\n",
              "      border-color: transparent;\n",
              "      border-right-color: var(--fill-color);\n",
              "      border-bottom-color: var(--fill-color);\n",
              "    }\n",
              "    90% {\n",
              "      border-color: transparent;\n",
              "      border-bottom-color: var(--fill-color);\n",
              "    }\n",
              "  }\n",
              "</style>\n",
              "\n",
              "  <script>\n",
              "    async function quickchart(key) {\n",
              "      const quickchartButtonEl =\n",
              "        document.querySelector('#' + key + ' button');\n",
              "      quickchartButtonEl.disabled = true;  // To prevent multiple clicks.\n",
              "      quickchartButtonEl.classList.add('colab-df-spinner');\n",
              "      try {\n",
              "        const charts = await google.colab.kernel.invokeFunction(\n",
              "            'suggestCharts', [key], {});\n",
              "      } catch (error) {\n",
              "        console.error('Error during call to suggestCharts:', error);\n",
              "      }\n",
              "      quickchartButtonEl.classList.remove('colab-df-spinner');\n",
              "      quickchartButtonEl.classList.add('colab-df-quickchart-complete');\n",
              "    }\n",
              "    (() => {\n",
              "      let quickchartButtonEl =\n",
              "        document.querySelector('#df-23f1e673-ecae-4e1f-ab1e-2a19e3e2f640 button');\n",
              "      quickchartButtonEl.style.display =\n",
              "        google.colab.kernel.accessAllowed ? 'block' : 'none';\n",
              "    })();\n",
              "  </script>\n",
              "</div>\n",
              "    </div>\n",
              "  </div>\n"
            ]
          },
          "metadata": {},
          "execution_count": 65
        }
      ]
    },
    {
      "cell_type": "markdown",
      "source": [
        "**Note**: There is no linear correlation between the variables. It might be interesting to use all the variables in the model."
      ],
      "metadata": {
        "id": "43MG5I0Od8Rc"
      }
    },
    {
      "cell_type": "markdown",
      "source": [
        "## Activity 3: Check for imbalance of variable `fraud`. If any, do a class balancing."
      ],
      "metadata": {
        "id": "uLnTDczA2FQH"
      }
    },
    {
      "cell_type": "code",
      "source": [
        "# observing the balancing of the fraud variable\n",
        "sns.countplot(x=df['fraud']);"
      ],
      "metadata": {
        "id": "tQ68HjMuSj7q",
        "colab": {
          "base_uri": "https://localhost:8080/",
          "height": 449
        },
        "outputId": "a98a8d89-6d45-4ff8-e875-d669da804a68"
      },
      "execution_count": 66,
      "outputs": [
        {
          "output_type": "display_data",
          "data": {
            "text/plain": [
              "<Figure size 640x480 with 1 Axes>"
            ],
            "image/png": "[encoded data removed]"
          },
          "metadata": {}
        }
      ]
    },
    {
      "cell_type": "markdown",
      "source": [
        "**Note**: One class significantly outweighs the other. Since we have a lot of observations, we're going to use a technique called undersampling. This technique consists of discarding observations from the class that has more observations until both classes have the same amount."
      ],
      "metadata": {
        "id": "iJvA4Ldfe1yP"
      }
    },
    {
      "cell_type": "code",
      "source": [
        "# separating the variables x and y\n",
        "X = df.drop('fraud', axis=1)\n",
        "y = df['fraud']\n",
        "\n",
        "# balancing classes with undersampling\n",
        "from imblearn.under_sampling import RandomUnderSampler\n",
        "undersample = RandomUnderSampler(sampling_strategy='majority')\n",
        "X, y = undersample.fit_resample(X, y)"
      ],
      "metadata": {
        "id": "EfuUB4pCY4A2"
      },
      "execution_count": 67,
      "outputs": []
    },
    {
      "cell_type": "markdown",
      "source": [
        "## Activity 4: Create a logistic regression model."
      ],
      "metadata": {
        "id": "LyNahV2VRYqH"
      }
    },
    {
      "cell_type": "code",
      "source": [
        "# adding the constant to the model\n",
        "X = sm.add_constant(X)\n",
        "# creating logistic regression model\n",
        "model = sm.Logit(y, X).fit(method='newton')"
      ],
      "metadata": {
        "colab": {
          "base_uri": "https://localhost:8080/"
        },
        "id": "IT_WxWyaZH_E",
        "outputId": "a0dd921e-0e32-4a20-985a-f65cb822a0b5"
      },
      "execution_count": 68,
      "outputs": [
        {
          "output_type": "stream",
          "name": "stdout",
          "text": [
            "Optimization terminated successfully.\n",
            "         Current function value: 0.209525\n",
            "         Iterations 10\n"
          ]
        }
      ]
    },
    {
      "cell_type": "code",
      "source": [
        "# observing the predicted values\n",
        "model.predict(X)"
      ],
      "metadata": {
        "colab": {
          "base_uri": "https://localhost:8080/"
        },
        "id": "YA3sipMxhJf7",
        "outputId": "6611a544-58c1-417b-95d1-440c0106f9d0"
      },
      "execution_count": 69,
      "outputs": [
        {
          "output_type": "execute_result",
          "data": {
            "text/plain": [
              "0         0.034615\n",
              "1         0.011072\n",
              "2         0.621764\n",
              "3         0.000619\n",
              "4         0.195777\n",
              "            ...   \n",
              "174801    0.999694\n",
              "174802    0.773380\n",
              "174803    0.527924\n",
              "174804    1.000000\n",
              "174805    0.999830\n",
              "Length: 174806, dtype: float64"
            ]
          },
          "metadata": {},
          "execution_count": 69
        }
      ]
    },
    {
      "cell_type": "code",
      "source": [
        "# creating the variable with the predictions\n",
        "y_pred = (model.predict(X) >= 0.5).astype(int)\n",
        "y_pred"
      ],
      "metadata": {
        "colab": {
          "base_uri": "https://localhost:8080/"
        },
        "id": "aGRW3v6viDZG",
        "outputId": "1cf6414a-778c-43b9-a4c6-776d893b9203"
      },
      "execution_count": 70,
      "outputs": [
        {
          "output_type": "execute_result",
          "data": {
            "text/plain": [
              "0         0\n",
              "1         0\n",
              "2         1\n",
              "3         0\n",
              "4         0\n",
              "         ..\n",
              "174801    1\n",
              "174802    1\n",
              "174803    1\n",
              "174804    1\n",
              "174805    1\n",
              "Length: 174806, dtype: int64"
            ]
          },
          "metadata": {},
          "execution_count": 70
        }
      ]
    },
    {
      "cell_type": "markdown",
      "source": [
        "## Activity 5: Check model parameters and whether they are relevant."
      ],
      "metadata": {
        "id": "A75pvaMA4WEM"
      }
    },
    {
      "cell_type": "code",
      "source": [
        "# checking model parameters\n",
        "model.params"
      ],
      "metadata": {
        "colab": {
          "base_uri": "https://localhost:8080/"
        },
        "id": "DkC835tgiSO0",
        "outputId": "efde14a2-6e86-4db9-bc51-8c90d162d5db"
      },
      "execution_count": 71,
      "outputs": [
        {
          "output_type": "execute_result",
          "data": {
            "text/plain": [
              "const                             -7.701163\n",
              "distance_from_home                 0.029556\n",
              "distance_from_last_transaction     0.049989\n",
              "ratio_to_median_purchase_price     1.220745\n",
              "repeat_retailer                   -1.467037\n",
              "used_chip                         -1.216724\n",
              "used_pin_number                  -10.562632\n",
              "online_order                       5.065051\n",
              "dtype: float64"
            ]
          },
          "metadata": {},
          "execution_count": 71
        }
      ]
    },
    {
      "cell_type": "code",
      "source": [
        "# interpreting the parameters\n",
        "params = np.exp(model.params)-1\n",
        "params"
      ],
      "metadata": {
        "colab": {
          "base_uri": "https://localhost:8080/"
        },
        "id": "bhVyOPIKyqmM",
        "outputId": "d3d3a1bf-d45a-4141-d954-bb5587cad541"
      },
      "execution_count": 72,
      "outputs": [
        {
          "output_type": "execute_result",
          "data": {
            "text/plain": [
              "const                              -0.999548\n",
              "distance_from_home                  0.029997\n",
              "distance_from_last_transaction      0.051260\n",
              "ratio_to_median_purchase_price      2.389712\n",
              "repeat_retailer                    -0.769392\n",
              "used_chip                          -0.703801\n",
              "used_pin_number                    -0.999974\n",
              "online_order                      157.388445\n",
              "dtype: float64"
            ]
          },
          "metadata": {},
          "execution_count": 72
        }
      ]
    },
    {
      "cell_type": "markdown",
      "source": [
        "**Interpretation of the results**: For each unit that the value of the distance_from_home increases, the chance of the transaction being a fraud increases by 2%. For each unit that the value of repeat_retailer increases, the chance of the transaction being a fraud decreases by 77%."
      ],
      "metadata": {
        "id": "U0MKJskTyqL0"
      }
    },
    {
      "cell_type": "code",
      "source": [
        "# observing information about the model\n",
        "print(model.summary())"
      ],
      "metadata": {
        "id": "hv7AEF01Pt0y",
        "colab": {
          "base_uri": "https://localhost:8080/"
        },
        "outputId": "3380f4b6-06e5-46b7-e67e-19d420e16ae6"
      },
      "execution_count": 73,
      "outputs": [
        {
          "output_type": "stream",
          "name": "stdout",
          "text": [
            "                           Logit Regression Results                           \n",
            "==============================================================================\n",
            "Dep. Variable:                  fraud   No. Observations:               174806\n",
            "Model:                          Logit   Df Residuals:                   174798\n",
            "Method:                           MLE   Df Model:                            7\n",
            "Date:                Thu, 23 Nov 2023   Pseudo R-squ.:                  0.6977\n",
            "Time:                        14:13:39   Log-Likelihood:                -36626.\n",
            "converged:                       True   LL-Null:                   -1.2117e+05\n",
            "Covariance Type:            nonrobust   LLR p-value:                     0.000\n",
            "==================================================================================================\n",
            "                                     coef    std err          z      P>|z|      [0.025      0.975]\n",
            "--------------------------------------------------------------------------------------------------\n",
            "const                             -7.7012      0.054   -142.618      0.000      -7.807      -7.595\n",
            "distance_from_home                 0.0296      0.000    130.724      0.000       0.029       0.030\n",
            "distance_from_last_transaction     0.0500      0.001     87.763      0.000       0.049       0.051\n",
            "ratio_to_median_purchase_price     1.2207      0.007    180.976      0.000       1.208       1.234\n",
            "repeat_retailer                   -1.4670      0.032    -46.572      0.000      -1.529      -1.405\n",
            "used_chip                         -1.2167      0.023    -53.537      0.000      -1.261      -1.172\n",
            "used_pin_number                  -10.5626      0.166    -63.459      0.000     -10.889     -10.236\n",
            "online_order                       5.0651      0.043    117.303      0.000       4.980       5.150\n",
            "==================================================================================================\n",
            "\n",
            "Possibly complete quasi-separation: A fraction 0.14 of observations can be\n",
            "perfectly predicted. This might indicate that there is complete\n",
            "quasi-separation. In this case some parameters will not be identified.\n"
          ]
        }
      ]
    },
    {
      "cell_type": "markdown",
      "source": [
        "**Note**: The pseudo R2 value is 69%, which indicates that the model is good. The P>|z| of the variables is 0, which indicates that all of them are relevant to predict y."
      ],
      "metadata": {
        "id": "Nx3CoDUKz7Rg"
      }
    },
    {
      "cell_type": "markdown",
      "source": [
        "## Activity 6: Create the confusion matrix and the corresponding heatmap."
      ],
      "metadata": {
        "id": "KzB5asn6RN8p"
      }
    },
    {
      "cell_type": "code",
      "source": [
        "# importing function\n",
        "from sklearn.metrics import confusion_matrix\n",
        "# creating confusion matrix\n",
        "conf_matrix = confusion_matrix(y, y_pred)\n",
        "conf_matrix"
      ],
      "metadata": {
        "id": "n8QwhzkTPiDs",
        "colab": {
          "base_uri": "https://localhost:8080/"
        },
        "outputId": "7fc4e889-d1b4-4c9a-c848-d78d0b6dfefd"
      },
      "execution_count": 74,
      "outputs": [
        {
          "output_type": "execute_result",
          "data": {
            "text/plain": [
              "array([[81518,  5885],\n",
              "       [ 4409, 82994]])"
            ]
          },
          "metadata": {},
          "execution_count": 74
        }
      ]
    },
    {
      "cell_type": "code",
      "source": [
        "# creating heatmap with percentages\n",
        "sns.heatmap(conf_matrix/np.sum(conf_matrix),\n",
        "            annot=True, fmt='.2%', cmap='Blues');\n",
        "# customizing chart\n",
        "plt.title('Confusion Matrix', y=1.1)\n",
        "plt.ylabel('Observed Values')\n",
        "plt.xlabel('Predicted Values');"
      ],
      "metadata": {
        "id": "9uen0B9OQr6H",
        "colab": {
          "base_uri": "https://localhost:8080/",
          "height": 509
        },
        "outputId": "e81b9669-87bf-4ced-df6d-02b8403bcb41"
      },
      "execution_count": 75,
      "outputs": [
        {
          "output_type": "display_data",
          "data": {
            "text/plain": [
              "<Figure size 640x480 with 2 Axes>"
            ],
            "image/png": "[encoded data removed]"
          },
          "metadata": {}
        }
      ]
    },
    {
      "cell_type": "markdown",
      "source": [
        "**Note**: The confusion matrix and the heatmap show that the model was right about around 95% of the values."
      ],
      "metadata": {
        "id": "G7C_910PrjDj"
      }
    },
    {
      "cell_type": "markdown",
      "source": [
        "## Activity 7: Check the other metrics (sensitivity, specificity, f1-score)."
      ],
      "metadata": {
        "id": "3Wk5rVVF9qLq"
      }
    },
    {
      "cell_type": "code",
      "source": [
        "# importing library to generate the table with the metrics\n",
        "from sklearn.metrics import classification_report\n",
        "# printing metrics\n",
        "print(classification_report(y, y_pred))"
      ],
      "metadata": {
        "id": "iEk4M4vLBhqU",
        "colab": {
          "base_uri": "https://localhost:8080/"
        },
        "outputId": "62fe6b6d-f977-41b4-d2fc-948b345ab0dd"
      },
      "execution_count": 76,
      "outputs": [
        {
          "output_type": "stream",
          "name": "stdout",
          "text": [
            "              precision    recall  f1-score   support\n",
            "\n",
            "         0.0       0.95      0.93      0.94     87403\n",
            "         1.0       0.93      0.95      0.94     87403\n",
            "\n",
            "    accuracy                           0.94    174806\n",
            "   macro avg       0.94      0.94      0.94    174806\n",
            "weighted avg       0.94      0.94      0.94    174806\n",
            "\n"
          ]
        }
      ]
    },
    {
      "cell_type": "markdown",
      "source": [
        "**Note**: The metrics show that the model is 94% accurate. The other metrics have equally high values, which indicates that the model is good."
      ],
      "metadata": {
        "id": "8n_5K0Qrv_f3"
      }
    },
    {
      "cell_type": "markdown",
      "source": [
        "## Activity 8: Create the ROC curve for this model."
      ],
      "metadata": {
        "id": "UqZB8GFPShyT"
      }
    },
    {
      "cell_type": "code",
      "source": [
        "# importing functions\n",
        "from sklearn.metrics import roc_curve, roc_auc_score\n",
        "# generating the graph of the ROC curve\n",
        "logit_roc_auc = roc_auc_score(y, model.predict(X))\n",
        "fpr, tpr, thresholds = roc_curve(y, model.predict(X))\n",
        "# customizing chart\n",
        "plt.plot(fpr, tpr, label=f'Logistic Regression (area = {round(logit_roc_auc, 2)})')\n",
        "plt.plot([0, 1], [0, 1],'r--')\n",
        "plt.xlabel('False Positive Rate')\n",
        "plt.ylabel('True Positive Rate')\n",
        "plt.title('ROC Curve')\n",
        "plt.legend(loc=\"lower right\");"
      ],
      "metadata": {
        "id": "uQNbLEfPBho8",
        "colab": {
          "base_uri": "https://localhost:8080/",
          "height": 472
        },
        "outputId": "4ba0829e-63c0-46de-a04a-5c168a46566e"
      },
      "execution_count": 77,
      "outputs": [
        {
          "output_type": "display_data",
          "data": {
            "text/plain": [
              "<Figure size 640x480 with 1 Axes>"
            ],
            "image/png": "[encoded data removed]"
          },
          "metadata": {}
        }
      ]
    },
    {
      "cell_type": "markdown",
      "source": [
        "**Note**: The blue curve is very close to 1, with the area being 0.98. This means that the model is good."
      ],
      "metadata": {
        "id": "2GoH0qQRw_lg"
      }
    },
    {
      "cell_type": "markdown",
      "source": [
        "## Activity 9: Predict whether or not a transaction with the characteristics below is a fraud.\n",
        "\n",
        "* `distance_from_home = 82`\n",
        "* `distance_from_last_transaction = 13`\n",
        "* `ratio_to_median_purchase_price = 14`\n",
        "* `repeat_retailer = 1`\n",
        "* `used_chip = 0`\n",
        "* `used_pin_number = 0`\n",
        "* `online_order = 1`"
      ],
      "metadata": {
        "id": "PbFaRUFXnSyG"
      }
    },
    {
      "cell_type": "code",
      "source": [
        "# applying the model to the mentioned values, where the first value must be the constant\n",
        "prediction = model.predict([1, 82, 13, 14, 1, 0, 0, 1])\n",
        "prediction"
      ],
      "metadata": {
        "id": "jrtZuSdcnXtG",
        "colab": {
          "base_uri": "https://localhost:8080/"
        },
        "outputId": "54e2ee02-a1e8-4c4a-cfb0-175f0f7e1d3c"
      },
      "execution_count": 78,
      "outputs": [
        {
          "output_type": "execute_result",
          "data": {
            "text/plain": [
              "array([0.99999989])"
            ]
          },
          "metadata": {},
          "execution_count": 78
        }
      ]
    },
    {
      "cell_type": "code",
      "source": [
        "prediction2 = (model.predict([1, 82, 13, 14, 1, 0, 0, 1]) >= 0.5).astype(int)\n",
        "prediction2"
      ],
      "metadata": {
        "colab": {
          "base_uri": "https://localhost:8080/"
        },
        "id": "QUA5QZmMbJQT",
        "outputId": "7e4cbff6-c1ed-4fb0-9ee4-1b1e1cc9214e"
      },
      "execution_count": 79,
      "outputs": [
        {
          "output_type": "execute_result",
          "data": {
            "text/plain": [
              "array([1])"
            ]
          },
          "metadata": {},
          "execution_count": 79
        }
      ]
    },
    {
      "cell_type": "markdown",
      "source": [
        "**Answer**: A transaction with the characteristics mentioned above has a 99% chance of being a fraud."
      ],
      "metadata": {
        "id": "7-fMpzLZxiZ7"
      }
    },
    {
      "cell_type": "markdown",
      "source": [
        "## Activity 10: Redo the exercises without doing class balancing and check for any problems."
      ],
      "metadata": {
        "id": "Qkd31k1Fa5SQ"
      }
    },
    {
      "cell_type": "code",
      "source": [
        "# creating variables for the model\n",
        "X2 = df.drop('fraud', axis=1)\n",
        "y2 = df['fraud']\n",
        "# adding the constant to the model\n",
        "X2 = sm.add_constant(X2)\n",
        "# creating logistic regression model\n",
        "model2 = sm.Logit(y2, X2).fit(method='newton')"
      ],
      "metadata": {
        "id": "TS2GXaV4cYGI",
        "colab": {
          "base_uri": "https://localhost:8080/"
        },
        "outputId": "8e9597de-c730-47a4-c3cb-bd74060d43ec"
      },
      "execution_count": 80,
      "outputs": [
        {
          "output_type": "stream",
          "name": "stdout",
          "text": [
            "Optimization terminated successfully.\n",
            "         Current function value: 0.135695\n",
            "         Iterations 12\n"
          ]
        }
      ]
    },
    {
      "cell_type": "code",
      "source": [
        "model2.predict(X2)"
      ],
      "metadata": {
        "colab": {
          "base_uri": "https://localhost:8080/"
        },
        "id": "JDAYq8oUUj1F",
        "outputId": "99c328db-839f-4058-8c61-f86774f19afc"
      },
      "execution_count": 81,
      "outputs": [
        {
          "output_type": "execute_result",
          "data": {
            "text/plain": [
              "0         0.000078\n",
              "1         0.000061\n",
              "2         0.020542\n",
              "3         0.007451\n",
              "4         0.058587\n",
              "            ...   \n",
              "999995    0.000025\n",
              "999996    0.000095\n",
              "999997    0.005996\n",
              "999998    0.020837\n",
              "999999    0.015454\n",
              "Length: 1000000, dtype: float64"
            ]
          },
          "metadata": {},
          "execution_count": 81
        }
      ]
    },
    {
      "cell_type": "code",
      "source": [
        "# creating the variable with the predictions\n",
        "y_pred2 = (model2.predict(X2) >= 0.5).astype(int)\n",
        "y_pred2"
      ],
      "metadata": {
        "colab": {
          "base_uri": "https://localhost:8080/"
        },
        "id": "C15vu-Y1VCIl",
        "outputId": "11517861-28ce-4220-c231-532cc4be2a78"
      },
      "execution_count": 82,
      "outputs": [
        {
          "output_type": "execute_result",
          "data": {
            "text/plain": [
              "0         0\n",
              "1         0\n",
              "2         0\n",
              "3         0\n",
              "4         0\n",
              "         ..\n",
              "999995    0\n",
              "999996    0\n",
              "999997    0\n",
              "999998    0\n",
              "999999    0\n",
              "Length: 1000000, dtype: int64"
            ]
          },
          "metadata": {},
          "execution_count": 82
        }
      ]
    },
    {
      "cell_type": "code",
      "source": [
        "# checking parameters\n",
        "model2.params"
      ],
      "metadata": {
        "id": "h1estIACctnS",
        "colab": {
          "base_uri": "https://localhost:8080/"
        },
        "outputId": "947cc4f2-120e-4c94-f7bb-d523d915bc7c"
      },
      "execution_count": 83,
      "outputs": [
        {
          "output_type": "execute_result",
          "data": {
            "text/plain": [
              "const                            -10.361061\n",
              "distance_from_home                 0.015217\n",
              "distance_from_last_transaction     0.025258\n",
              "ratio_to_median_purchase_price     0.862251\n",
              "repeat_retailer                   -0.621471\n",
              "used_chip                         -1.049060\n",
              "used_pin_number                  -13.740402\n",
              "online_order                       6.651379\n",
              "dtype: float64"
            ]
          },
          "metadata": {},
          "execution_count": 83
        }
      ]
    },
    {
      "cell_type": "code",
      "source": [
        "# interpreting the parameters\n",
        "params2 = np.exp(model2.params)-1\n",
        "params2"
      ],
      "metadata": {
        "colab": {
          "base_uri": "https://localhost:8080/"
        },
        "id": "BtE3MQeKVtdF",
        "outputId": "5beae53d-230d-464c-b0f0-318950b56733"
      },
      "execution_count": 84,
      "outputs": [
        {
          "output_type": "execute_result",
          "data": {
            "text/plain": [
              "const                              -0.999968\n",
              "distance_from_home                  0.015333\n",
              "distance_from_last_transaction      0.025579\n",
              "ratio_to_median_purchase_price      1.368487\n",
              "repeat_retailer                    -0.462846\n",
              "used_chip                          -0.649733\n",
              "used_pin_number                    -0.999999\n",
              "online_order                      772.850567\n",
              "dtype: float64"
            ]
          },
          "metadata": {},
          "execution_count": 84
        }
      ]
    },
    {
      "cell_type": "code",
      "source": [
        "# observing information about the model\n",
        "print(model2.summary())"
      ],
      "metadata": {
        "id": "bbltvkaTcvpo",
        "colab": {
          "base_uri": "https://localhost:8080/"
        },
        "outputId": "48afe112-c2bf-4f77-c3cb-a3b5ff4ee0c3"
      },
      "execution_count": 85,
      "outputs": [
        {
          "output_type": "stream",
          "name": "stdout",
          "text": [
            "                           Logit Regression Results                           \n",
            "==============================================================================\n",
            "Dep. Variable:                  fraud   No. Observations:              1000000\n",
            "Model:                          Logit   Df Residuals:                   999992\n",
            "Method:                           MLE   Df Model:                            7\n",
            "Date:                Thu, 23 Nov 2023   Pseudo R-squ.:                  0.5423\n",
            "Time:                        14:13:49   Log-Likelihood:            -1.3570e+05\n",
            "converged:                       True   LL-Null:                   -2.9649e+05\n",
            "Covariance Type:            nonrobust   LLR p-value:                     0.000\n",
            "==================================================================================================\n",
            "                                     coef    std err          z      P>|z|      [0.025      0.975]\n",
            "--------------------------------------------------------------------------------------------------\n",
            "const                            -10.3611      0.044   -237.200      0.000     -10.447     -10.275\n",
            "distance_from_home                 0.0152   8.32e-05    182.831      0.000       0.015       0.015\n",
            "distance_from_last_transaction     0.0253      0.000    105.614      0.000       0.025       0.026\n",
            "ratio_to_median_purchase_price     0.8623      0.003    303.723      0.000       0.857       0.868\n",
            "repeat_retailer                   -0.6215      0.016    -39.456      0.000      -0.652      -0.591\n",
            "used_chip                         -1.0491      0.012    -85.804      0.000      -1.073      -1.025\n",
            "used_pin_number                  -13.7404      0.159    -86.663      0.000     -14.051     -13.430\n",
            "online_order                       6.6514      0.037    178.712      0.000       6.578       6.724\n",
            "==================================================================================================\n",
            "\n",
            "Possibly complete quasi-separation: A fraction 0.31 of observations can be\n",
            "perfectly predicted. This might indicate that there is complete\n",
            "quasi-separation. In this case some parameters will not be identified.\n"
          ]
        }
      ]
    },
    {
      "cell_type": "code",
      "source": [
        "y_pred2 = (model2.predict(X2) >= 0.5).astype(int)"
      ],
      "metadata": {
        "id": "qyD4qm43cxsu"
      },
      "execution_count": 86,
      "outputs": []
    },
    {
      "cell_type": "code",
      "source": [
        "conf_matrix2 = confusion_matrix(y2, y_pred2)\n",
        "sns.heatmap(conf_matrix2/np.sum(conf_matrix2),\n",
        "            annot=True, fmt='.2%', cmap='Blues');\n",
        "plt.title('Confusion Matrix 2', y=1.1)\n",
        "plt.ylabel('Observed Values')\n",
        "plt.xlabel('Predicted Values');"
      ],
      "metadata": {
        "id": "6EiiNwKdhKUc",
        "colab": {
          "base_uri": "https://localhost:8080/",
          "height": 509
        },
        "outputId": "079877ee-6929-416f-d216-3547f6590d77"
      },
      "execution_count": 87,
      "outputs": [
        {
          "output_type": "display_data",
          "data": {
            "text/plain": [
              "<Figure size 640x480 with 2 Axes>"
            ],
            "image/png": "[encoded data removed]"
          },
          "metadata": {}
        }
      ]
    },
    {
      "cell_type": "code",
      "source": [
        "# printing metrics\n",
        "print(classification_report(y2, y_pred2))"
      ],
      "metadata": {
        "id": "m-Cw4VVH28Ma",
        "colab": {
          "base_uri": "https://localhost:8080/"
        },
        "outputId": "d826a5c9-957b-4fa9-f2be-bb1d8f6017d9"
      },
      "execution_count": 88,
      "outputs": [
        {
          "output_type": "stream",
          "name": "stdout",
          "text": [
            "              precision    recall  f1-score   support\n",
            "\n",
            "         0.0       0.96      0.99      0.98    912597\n",
            "         1.0       0.89      0.60      0.72     87403\n",
            "\n",
            "    accuracy                           0.96   1000000\n",
            "   macro avg       0.93      0.80      0.85   1000000\n",
            "weighted avg       0.96      0.96      0.96   1000000\n",
            "\n"
          ]
        }
      ]
    },
    {
      "cell_type": "code",
      "source": [
        "# generating the ROC curve\n",
        "logit_roc_auc2 = roc_auc_score(y2, model2.predict(X2))\n",
        "fpr, tpr, thresholds = roc_curve(y2, model2.predict(X2))\n",
        "# customizing chart\n",
        "plt.plot(fpr, tpr, label=f'Logistic Regression (area = {round(logit_roc_auc2, 2)})')\n",
        "plt.plot([0, 1], [0, 1],'r--')\n",
        "plt.xlabel('False Positive Rate')\n",
        "plt.ylabel('True Positive Rate')\n",
        "plt.title('ROC Curve')\n",
        "plt.legend(loc=\"lower right\");"
      ],
      "metadata": {
        "id": "7kHChRLo3U-g",
        "colab": {
          "base_uri": "https://localhost:8080/",
          "height": 472
        },
        "outputId": "02f473a6-c83f-4b2d-c0e7-6b9ac0caa5f6"
      },
      "execution_count": 89,
      "outputs": [
        {
          "output_type": "display_data",
          "data": {
            "text/plain": [
              "<Figure size 640x480 with 1 Axes>"
            ],
            "image/png": "[encoded data removed]"
          },
          "metadata": {}
        }
      ]
    },
    {
      "cell_type": "code",
      "source": [
        "# applying the model on the mentioned values\n",
        "previsao_2 = model2.predict([1, 82, 13, 14, 1, 0, 0, 1])\n",
        "previsao_2"
      ],
      "metadata": {
        "id": "54cJSIJA31TQ",
        "colab": {
          "base_uri": "https://localhost:8080/"
        },
        "outputId": "9552b5f2-bcaf-4186-e27a-c709ccb20d21"
      },
      "execution_count": 90,
      "outputs": [
        {
          "output_type": "execute_result",
          "data": {
            "text/plain": [
              "array([0.99991008])"
            ]
          },
          "metadata": {},
          "execution_count": 90
        }
      ]
    },
    {
      "cell_type": "code",
      "source": [
        "# changing the result so that it is displayed in binary terms\n",
        "previsao_3 = (model2.predict([1, 82, 13, 14, 1, 0, 0, 1]) >= 0.5).astype(int)\n",
        "previsao_3"
      ],
      "metadata": {
        "id": "w9q7zf0O4vWU",
        "colab": {
          "base_uri": "https://localhost:8080/"
        },
        "outputId": "124c6cff-ba18-45f1-f6b7-ab116daf9939"
      },
      "execution_count": 91,
      "outputs": [
        {
          "output_type": "execute_result",
          "data": {
            "text/plain": [
              "array([1])"
            ]
          },
          "metadata": {},
          "execution_count": 91
        }
      ]
    },
    {
      "cell_type": "markdown",
      "source": [
        "**Answer**: Using the unbalanced variables, the model has lower precision and accuracy, as well as a lower pseudo R2. As the data has many more values marked as non-fraud, the model does not learn well to predict fraud and may miss fraudulent operations. Despite this, the model predicted correctly with the given information."
      ],
      "metadata": {
        "id": "xStE6KwK881C"
      }
    }
  ]
}