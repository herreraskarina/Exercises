{
  "nbformat": 4,
  "nbformat_minor": 0,
  "metadata": {
    "colab": {
      "provenance": [],
      "include_colab_link": true
    },
    "kernelspec": {
      "name": "python3",
      "display_name": "Python 3"
    },
    "language_info": {
      "name": "python"
    }
  },
  "cells": [
    {
      "cell_type": "markdown",
      "metadata": {
        "id": "view-in-github",
        "colab_type": "text"
      },
      "source": [
        "<a href=\"https://colab.research.google.com/github/herreraskarina/Exercises/blob/main/GitHub_Master_Semana2.ipynb\" target=\"_parent\"><img src=\"https://colab.research.google.com/assets/colab-badge.svg\" alt=\"Open In Colab\"/></a>"
      ]
    },
    {
      "cell_type": "markdown",
      "source": [
        "\n",
        "\n",
        "\n",
        "\n",
        "\n",
        "\n",
        "\n",
        "\n",
        "\n",
        "\n",
        "\n",
        "\n",
        "\n",
        "\n",
        "\n",
        "\n",
        "\n",
        "\n",
        "\n",
        "\n",
        "\n",
        "\n",
        "\n",
        "\n",
        "# Hypothesis testing"
      ],
      "metadata": {
        "id": "X_7v-QZrZxF8"
      }
    },
    {
      "cell_type": "markdown",
      "source": [
        "# 1 sample *t* test"
      ],
      "metadata": {
        "id": "9H7XRk3GlSOe"
      }
    },
    {
      "cell_type": "markdown",
      "source": [
        "### Activity 1: Create a DataFrame from the data available at [Ideb](https://basedosdados.org/dataset/br-inep-ideb?bdm_table=municipio). Select only the columns year, state, approval rate, SAEB note for math, SAEB note for portuguese and ideb (`ano`, `sigla_uf`, `taxa_aprovacao`, `nota_saeb_matematica`, `nota_saeb_lingua_portuguesa` e `ideb`)."
      ],
      "metadata": {
        "id": "8TE8AwYzb0W7"
      }
    },
    {
      "cell_type": "code",
      "source": [
        "# importing data\n",
        "import pandas as pd\n",
        "from google.colab import drive\n",
        "drive.mount('/content/drive')"
      ],
      "metadata": {
        "id": "-cfY16BHT88h",
        "outputId": "bb73ee64-09cb-48b3-8202-94f97c960c6e",
        "colab": {
          "base_uri": "https://localhost:8080/"
        }
      },
      "execution_count": 1,
      "outputs": [
        {
          "output_type": "stream",
          "name": "stdout",
          "text": [
            "Mounted at /content/drive\n"
          ]
        }
      ]
    },
    {
      "cell_type": "code",
      "source": [
        "ideb = pd.read_csv('/content/drive/MyDrive/ideb2.csv')"
      ],
      "metadata": {
        "id": "daQqvK6NWWTW"
      },
      "execution_count": 2,
      "outputs": []
    },
    {
      "cell_type": "code",
      "source": [
        "# selecting columns\n",
        "ideb_colunas_select = ideb[['ano', 'sigla_uf', 'taxa_aprovacao', 'nota_saeb_matematica', 'nota_saeb_lingua_portuguesa', 'ideb']]\n",
        "ideb_colunas_select"
      ],
      "metadata": {
        "id": "1D6x2jwmNYgD",
        "outputId": "a73b2c99-c05d-4dd7-c90a-33881e91e7d6",
        "colab": {
          "base_uri": "https://localhost:8080/",
          "height": 423
        }
      },
      "execution_count": 3,
      "outputs": [
        {
          "output_type": "execute_result",
          "data": {
            "text/plain": [
              "         ano sigla_uf  taxa_aprovacao  nota_saeb_matematica  \\\n",
              "0       2005       AC            64.1                161.80   \n",
              "1       2005       AC            53.9                167.80   \n",
              "2       2005       AC            49.3                151.80   \n",
              "3       2005       AC            48.8                163.60   \n",
              "4       2005       AC            48.8                159.00   \n",
              "...      ...      ...             ...                   ...   \n",
              "130189  2019       SP            97.1                253.44   \n",
              "130190  2019       SP            97.4                246.38   \n",
              "130191  2019       SP            97.4                246.38   \n",
              "130192  2019       SP            99.6                245.08   \n",
              "130193  2019       SP            99.6                245.08   \n",
              "\n",
              "        nota_saeb_lingua_portuguesa  ideb  \n",
              "0                            150.80   2.4  \n",
              "1                            165.60   2.3  \n",
              "2                            149.60   1.8  \n",
              "3                            155.80   1.9  \n",
              "4                            153.39   1.9  \n",
              "...                             ...   ...  \n",
              "130189                       225.44   6.7  \n",
              "130190                       231.63   6.7  \n",
              "130191                       231.63   6.7  \n",
              "130192                       227.11   6.7  \n",
              "130193                       227.11   6.7  \n",
              "\n",
              "[130194 rows x 6 columns]"
            ],
            "text/html": [
              "\n",
              "  <div id=\"df-0bbc6f31-449b-4e61-8484-1397ce2a20eb\">\n",
              "    <div class=\"colab-df-container\">\n",
              "      <div>\n",
              "<style scoped>\n",
              "    .dataframe tbody tr th:only-of-type {\n",
              "        vertical-align: middle;\n",
              "    }\n",
              "\n",
              "    .dataframe tbody tr th {\n",
              "        vertical-align: top;\n",
              "    }\n",
              "\n",
              "    .dataframe thead th {\n",
              "        text-align: right;\n",
              "    }\n",
              "</style>\n",
              "<table border=\"1\" class=\"dataframe\">\n",
              "  <thead>\n",
              "    <tr style=\"text-align: right;\">\n",
              "      <th></th>\n",
              "      <th>ano</th>\n",
              "      <th>sigla_uf</th>\n",
              "      <th>taxa_aprovacao</th>\n",
              "      <th>nota_saeb_matematica</th>\n",
              "      <th>nota_saeb_lingua_portuguesa</th>\n",
              "      <th>ideb</th>\n",
              "    </tr>\n",
              "  </thead>\n",
              "  <tbody>\n",
              "    <tr>\n",
              "      <th>0</th>\n",
              "      <td>2005</td>\n",
              "      <td>AC</td>\n",
              "      <td>64.1</td>\n",
              "      <td>161.80</td>\n",
              "      <td>150.80</td>\n",
              "      <td>2.4</td>\n",
              "    </tr>\n",
              "    <tr>\n",
              "      <th>1</th>\n",
              "      <td>2005</td>\n",
              "      <td>AC</td>\n",
              "      <td>53.9</td>\n",
              "      <td>167.80</td>\n",
              "      <td>165.60</td>\n",
              "      <td>2.3</td>\n",
              "    </tr>\n",
              "    <tr>\n",
              "      <th>2</th>\n",
              "      <td>2005</td>\n",
              "      <td>AC</td>\n",
              "      <td>49.3</td>\n",
              "      <td>151.80</td>\n",
              "      <td>149.60</td>\n",
              "      <td>1.8</td>\n",
              "    </tr>\n",
              "    <tr>\n",
              "      <th>3</th>\n",
              "      <td>2005</td>\n",
              "      <td>AC</td>\n",
              "      <td>48.8</td>\n",
              "      <td>163.60</td>\n",
              "      <td>155.80</td>\n",
              "      <td>1.9</td>\n",
              "    </tr>\n",
              "    <tr>\n",
              "      <th>4</th>\n",
              "      <td>2005</td>\n",
              "      <td>AC</td>\n",
              "      <td>48.8</td>\n",
              "      <td>159.00</td>\n",
              "      <td>153.39</td>\n",
              "      <td>1.9</td>\n",
              "    </tr>\n",
              "    <tr>\n",
              "      <th>...</th>\n",
              "      <td>...</td>\n",
              "      <td>...</td>\n",
              "      <td>...</td>\n",
              "      <td>...</td>\n",
              "      <td>...</td>\n",
              "      <td>...</td>\n",
              "    </tr>\n",
              "    <tr>\n",
              "      <th>130189</th>\n",
              "      <td>2019</td>\n",
              "      <td>SP</td>\n",
              "      <td>97.1</td>\n",
              "      <td>253.44</td>\n",
              "      <td>225.44</td>\n",
              "      <td>6.7</td>\n",
              "    </tr>\n",
              "    <tr>\n",
              "      <th>130190</th>\n",
              "      <td>2019</td>\n",
              "      <td>SP</td>\n",
              "      <td>97.4</td>\n",
              "      <td>246.38</td>\n",
              "      <td>231.63</td>\n",
              "      <td>6.7</td>\n",
              "    </tr>\n",
              "    <tr>\n",
              "      <th>130191</th>\n",
              "      <td>2019</td>\n",
              "      <td>SP</td>\n",
              "      <td>97.4</td>\n",
              "      <td>246.38</td>\n",
              "      <td>231.63</td>\n",
              "      <td>6.7</td>\n",
              "    </tr>\n",
              "    <tr>\n",
              "      <th>130192</th>\n",
              "      <td>2019</td>\n",
              "      <td>SP</td>\n",
              "      <td>99.6</td>\n",
              "      <td>245.08</td>\n",
              "      <td>227.11</td>\n",
              "      <td>6.7</td>\n",
              "    </tr>\n",
              "    <tr>\n",
              "      <th>130193</th>\n",
              "      <td>2019</td>\n",
              "      <td>SP</td>\n",
              "      <td>99.6</td>\n",
              "      <td>245.08</td>\n",
              "      <td>227.11</td>\n",
              "      <td>6.7</td>\n",
              "    </tr>\n",
              "  </tbody>\n",
              "</table>\n",
              "<p>130194 rows × 6 columns</p>\n",
              "</div>\n",
              "      <button class=\"colab-df-convert\" onclick=\"convertToInteractive('df-0bbc6f31-449b-4e61-8484-1397ce2a20eb')\"\n",
              "              title=\"Convert this dataframe to an interactive table.\"\n",
              "              style=\"display:none;\">\n",
              "        \n",
              "  <svg xmlns=\"http://www.w3.org/2000/svg\" height=\"24px\"viewBox=\"0 0 24 24\"\n",
              "       width=\"24px\">\n",
              "    <path d=\"M0 0h24v24H0V0z\" fill=\"none\"/>\n",
              "    <path d=\"M18.56 5.44l.94 2.06.94-2.06 2.06-.94-2.06-.94-.94-2.06-.94 2.06-2.06.94zm-11 1L8.5 8.5l.94-2.06 2.06-.94-2.06-.94L8.5 2.5l-.94 2.06-2.06.94zm10 10l.94 2.06.94-2.06 2.06-.94-2.06-.94-.94-2.06-.94 2.06-2.06.94z\"/><path d=\"M17.41 7.96l-1.37-1.37c-.4-.4-.92-.59-1.43-.59-.52 0-1.04.2-1.43.59L10.3 9.45l-7.72 7.72c-.78.78-.78 2.05 0 2.83L4 21.41c.39.39.9.59 1.41.59.51 0 1.02-.2 1.41-.59l7.78-7.78 2.81-2.81c.8-.78.8-2.07 0-2.86zM5.41 20L4 18.59l7.72-7.72 1.47 1.35L5.41 20z\"/>\n",
              "  </svg>\n",
              "      </button>\n",
              "      \n",
              "  <style>\n",
              "    .colab-df-container {\n",
              "      display:flex;\n",
              "      flex-wrap:wrap;\n",
              "      gap: 12px;\n",
              "    }\n",
              "\n",
              "    .colab-df-convert {\n",
              "      background-color: #E8F0FE;\n",
              "      border: none;\n",
              "      border-radius: 50%;\n",
              "      cursor: pointer;\n",
              "      display: none;\n",
              "      fill: #1967D2;\n",
              "      height: 32px;\n",
              "      padding: 0 0 0 0;\n",
              "      width: 32px;\n",
              "    }\n",
              "\n",
              "    .colab-df-convert:hover {\n",
              "      background-color: #E2EBFA;\n",
              "      box-shadow: 0px 1px 2px rgba(60, 64, 67, 0.3), 0px 1px 3px 1px rgba(60, 64, 67, 0.15);\n",
              "      fill: #174EA6;\n",
              "    }\n",
              "\n",
              "    [theme=dark] .colab-df-convert {\n",
              "      background-color: #3B4455;\n",
              "      fill: #D2E3FC;\n",
              "    }\n",
              "\n",
              "    [theme=dark] .colab-df-convert:hover {\n",
              "      background-color: #434B5C;\n",
              "      box-shadow: 0px 1px 3px 1px rgba(0, 0, 0, 0.15);\n",
              "      filter: drop-shadow(0px 1px 2px rgba(0, 0, 0, 0.3));\n",
              "      fill: #FFFFFF;\n",
              "    }\n",
              "  </style>\n",
              "\n",
              "      <script>\n",
              "        const buttonEl =\n",
              "          document.querySelector('#df-0bbc6f31-449b-4e61-8484-1397ce2a20eb button.colab-df-convert');\n",
              "        buttonEl.style.display =\n",
              "          google.colab.kernel.accessAllowed ? 'block' : 'none';\n",
              "\n",
              "        async function convertToInteractive(key) {\n",
              "          const element = document.querySelector('#df-0bbc6f31-449b-4e61-8484-1397ce2a20eb');\n",
              "          const dataTable =\n",
              "            await google.colab.kernel.invokeFunction('convertToInteractive',\n",
              "                                                     [key], {});\n",
              "          if (!dataTable) return;\n",
              "\n",
              "          const docLinkHtml = 'Like what you see? Visit the ' +\n",
              "            '<a target=\"_blank\" href=https://colab.research.google.com/notebooks/data_table.ipynb>data table notebook</a>'\n",
              "            + ' to learn more about interactive tables.';\n",
              "          element.innerHTML = '';\n",
              "          dataTable['output_type'] = 'display_data';\n",
              "          await google.colab.output.renderOutput(dataTable, element);\n",
              "          const docLink = document.createElement('div');\n",
              "          docLink.innerHTML = docLinkHtml;\n",
              "          element.appendChild(docLink);\n",
              "        }\n",
              "      </script>\n",
              "    </div>\n",
              "  </div>\n",
              "  "
            ]
          },
          "metadata": {},
          "execution_count": 3
        }
      ]
    },
    {
      "cell_type": "markdown",
      "source": [
        "### Activity 2: Check how many rows and columns this DataFrame has. Check if there is missing data."
      ],
      "metadata": {
        "id": "xsEP0uQwUib_"
      }
    },
    {
      "cell_type": "code",
      "source": [
        "# checking how many rows and columns there are\n",
        "ideb_colunas_select.shape"
      ],
      "metadata": {
        "colab": {
          "base_uri": "https://localhost:8080/"
        },
        "id": "H1_PmxGOREPk",
        "outputId": "48659a7b-c21b-4b71-98ff-9d59b0f247fb"
      },
      "execution_count": 4,
      "outputs": [
        {
          "output_type": "execute_result",
          "data": {
            "text/plain": [
              "(130194, 6)"
            ]
          },
          "metadata": {},
          "execution_count": 4
        }
      ]
    },
    {
      "cell_type": "code",
      "source": [
        "# checking if there is missing data and how many are missing\n",
        "ideb_colunas_select.isna().sum()"
      ],
      "metadata": {
        "id": "wdJdcto_XoB6",
        "colab": {
          "base_uri": "https://localhost:8080/"
        },
        "outputId": "d5938273-0213-49f2-aaba-92d3a1e32ea5"
      },
      "execution_count": 5,
      "outputs": [
        {
          "output_type": "execute_result",
          "data": {
            "text/plain": [
              "ano                                0\n",
              "sigla_uf                           0\n",
              "taxa_aprovacao                 26736\n",
              "nota_saeb_matematica           41849\n",
              "nota_saeb_lingua_portuguesa    41849\n",
              "ideb                           29825\n",
              "dtype: int64"
            ]
          },
          "metadata": {},
          "execution_count": 5
        }
      ]
    },
    {
      "cell_type": "code",
      "source": [
        "# droping missing data\n",
        "ideb = ideb_colunas_select.dropna()\n",
        "ideb.shape"
      ],
      "metadata": {
        "colab": {
          "base_uri": "https://localhost:8080/"
        },
        "id": "TfFIpty5PZcq",
        "outputId": "2ee1f6a4-53f9-42d2-f465-1536f36d74ee"
      },
      "execution_count": 6,
      "outputs": [
        {
          "output_type": "execute_result",
          "data": {
            "text/plain": [
              "(88321, 6)"
            ]
          },
          "metadata": {},
          "execution_count": 6
        }
      ]
    },
    {
      "cell_type": "markdown",
      "source": [
        "### Activity 3: Test the following hypothesis: the average approval rate for the year of 2005 equals 78. Consider a confidence level of 95%."
      ],
      "metadata": {
        "id": "9lzeAO8TUxgE"
      }
    },
    {
      "cell_type": "markdown",
      "source": [
        "$$H_0: \\mu = 78$$\n",
        "$$H_1: \\mu \\neq 78$$\n",
        "$$α = 0,05$$"
      ],
      "metadata": {
        "id": "DkMJaKNcGaqX"
      }
    },
    {
      "cell_type": "code",
      "source": [
        "# selecting only the data for the year of 2005\n",
        "ideb_2005 = ideb.loc[ideb['ano'] == 2005, ['taxa_aprovacao']]"
      ],
      "metadata": {
        "id": "IGVtk_YgRVzC"
      },
      "execution_count": 7,
      "outputs": []
    },
    {
      "cell_type": "code",
      "source": [
        "# importing the function of one-sample t test from the package Scipy\n",
        "from scipy.stats import ttest_1samp"
      ],
      "metadata": {
        "id": "PcVxgQhiIF9x"
      },
      "execution_count": 8,
      "outputs": []
    },
    {
      "cell_type": "code",
      "source": [
        "# using scipy.stats.ttest_1samp to test the hypothesis\n",
        "ttest_1samp(a=ideb_2005['taxa_aprovacao'], popmean=78, alternative='two-sided')"
      ],
      "metadata": {
        "id": "R9FM2kK-T82a",
        "colab": {
          "base_uri": "https://localhost:8080/"
        },
        "outputId": "16b9c7d8-8f25-480d-b9da-94a5fe666b51"
      },
      "execution_count": 9,
      "outputs": [
        {
          "output_type": "execute_result",
          "data": {
            "text/plain": [
              "TtestResult(statistic=20.890080427394643, pvalue=3.1469508067020596e-95, df=12082)"
            ]
          },
          "metadata": {},
          "execution_count": 9
        }
      ]
    },
    {
      "cell_type": "markdown",
      "source": [
        "**Answer**: The result of the one-sample *t* test gives a p-value of 3.1469508067020596e-95, which is below 0,05. This shows strong evidence that the null hypothesis should be rejected, i.e., **the approval rate average for the year of 2005 is different from 78**."
      ],
      "metadata": {
        "id": "sKKb7korVtu9"
      }
    },
    {
      "cell_type": "markdown",
      "source": [
        "# *t* test for two independent variables"
      ],
      "metadata": {
        "id": "J_zjF2d0HUsv"
      }
    },
    {
      "cell_type": "markdown",
      "source": [
        "### Activity 4: Test the following hypothesis: the average of the ideb score for the states of Rio Grande do Sul and Ceará, in 2019, are the same. Consider a confidence level of 95%.\n"
      ],
      "metadata": {
        "id": "WMLStXqvHhsW"
      }
    },
    {
      "cell_type": "markdown",
      "source": [
        "$$H_0: \\mu_1 = \\mu_2$$\n",
        "\n",
        "$$H_1: \\mu_1 \\neq \\mu_2$$\n",
        "\n",
        "$$α = 0,05$$\n",
        "\n",
        "$\\mu_1$ = average of Rio Grande do Sul\n",
        "\n",
        "$\\mu_2$ = average of Ceará"
      ],
      "metadata": {
        "id": "XSAmX0XwVoid"
      }
    },
    {
      "cell_type": "code",
      "source": [
        "# selecting only the data from the year 2019\n",
        "ideb_2019 = ideb[ideb['ano'] == 2019]\n",
        "ideb_2019"
      ],
      "metadata": {
        "id": "6s5AkOJ3M4c6",
        "colab": {
          "base_uri": "https://localhost:8080/",
          "height": 423
        },
        "outputId": "08064bc1-8d14-4868-cef4-1506297eafe9"
      },
      "execution_count": 10,
      "outputs": [
        {
          "output_type": "execute_result",
          "data": {
            "text/plain": [
              "         ano sigla_uf  taxa_aprovacao  nota_saeb_matematica  \\\n",
              "3409    2019       AC            98.2                288.92   \n",
              "3410    2019       AL            99.6                306.95   \n",
              "3411    2019       AL            99.6                306.95   \n",
              "3412    2019       AL            99.6                284.67   \n",
              "3413    2019       AL            99.6                284.67   \n",
              "...      ...      ...             ...                   ...   \n",
              "130189  2019       SP            97.1                253.44   \n",
              "130190  2019       SP            97.4                246.38   \n",
              "130191  2019       SP            97.4                246.38   \n",
              "130192  2019       SP            99.6                245.08   \n",
              "130193  2019       SP            99.6                245.08   \n",
              "\n",
              "        nota_saeb_lingua_portuguesa  ideb  \n",
              "3409                         263.10   8.1  \n",
              "3410                         281.26   8.9  \n",
              "3411                         281.26   8.9  \n",
              "3412                         261.05   8.1  \n",
              "3413                         261.05   8.1  \n",
              "...                             ...   ...  \n",
              "130189                       225.44   6.7  \n",
              "130190                       231.63   6.7  \n",
              "130191                       231.63   6.7  \n",
              "130192                       227.11   6.7  \n",
              "130193                       227.11   6.7  \n",
              "\n",
              "[12188 rows x 6 columns]"
            ],
            "text/html": [
              "\n",
              "  <div id=\"df-34947187-7bd7-47dd-a30c-7411c42c2e39\">\n",
              "    <div class=\"colab-df-container\">\n",
              "      <div>\n",
              "<style scoped>\n",
              "    .dataframe tbody tr th:only-of-type {\n",
              "        vertical-align: middle;\n",
              "    }\n",
              "\n",
              "    .dataframe tbody tr th {\n",
              "        vertical-align: top;\n",
              "    }\n",
              "\n",
              "    .dataframe thead th {\n",
              "        text-align: right;\n",
              "    }\n",
              "</style>\n",
              "<table border=\"1\" class=\"dataframe\">\n",
              "  <thead>\n",
              "    <tr style=\"text-align: right;\">\n",
              "      <th></th>\n",
              "      <th>ano</th>\n",
              "      <th>sigla_uf</th>\n",
              "      <th>taxa_aprovacao</th>\n",
              "      <th>nota_saeb_matematica</th>\n",
              "      <th>nota_saeb_lingua_portuguesa</th>\n",
              "      <th>ideb</th>\n",
              "    </tr>\n",
              "  </thead>\n",
              "  <tbody>\n",
              "    <tr>\n",
              "      <th>3409</th>\n",
              "      <td>2019</td>\n",
              "      <td>AC</td>\n",
              "      <td>98.2</td>\n",
              "      <td>288.92</td>\n",
              "      <td>263.10</td>\n",
              "      <td>8.1</td>\n",
              "    </tr>\n",
              "    <tr>\n",
              "      <th>3410</th>\n",
              "      <td>2019</td>\n",
              "      <td>AL</td>\n",
              "      <td>99.6</td>\n",
              "      <td>306.95</td>\n",
              "      <td>281.26</td>\n",
              "      <td>8.9</td>\n",
              "    </tr>\n",
              "    <tr>\n",
              "      <th>3411</th>\n",
              "      <td>2019</td>\n",
              "      <td>AL</td>\n",
              "      <td>99.6</td>\n",
              "      <td>306.95</td>\n",
              "      <td>281.26</td>\n",
              "      <td>8.9</td>\n",
              "    </tr>\n",
              "    <tr>\n",
              "      <th>3412</th>\n",
              "      <td>2019</td>\n",
              "      <td>AL</td>\n",
              "      <td>99.6</td>\n",
              "      <td>284.67</td>\n",
              "      <td>261.05</td>\n",
              "      <td>8.1</td>\n",
              "    </tr>\n",
              "    <tr>\n",
              "      <th>3413</th>\n",
              "      <td>2019</td>\n",
              "      <td>AL</td>\n",
              "      <td>99.6</td>\n",
              "      <td>284.67</td>\n",
              "      <td>261.05</td>\n",
              "      <td>8.1</td>\n",
              "    </tr>\n",
              "    <tr>\n",
              "      <th>...</th>\n",
              "      <td>...</td>\n",
              "      <td>...</td>\n",
              "      <td>...</td>\n",
              "      <td>...</td>\n",
              "      <td>...</td>\n",
              "      <td>...</td>\n",
              "    </tr>\n",
              "    <tr>\n",
              "      <th>130189</th>\n",
              "      <td>2019</td>\n",
              "      <td>SP</td>\n",
              "      <td>97.1</td>\n",
              "      <td>253.44</td>\n",
              "      <td>225.44</td>\n",
              "      <td>6.7</td>\n",
              "    </tr>\n",
              "    <tr>\n",
              "      <th>130190</th>\n",
              "      <td>2019</td>\n",
              "      <td>SP</td>\n",
              "      <td>97.4</td>\n",
              "      <td>246.38</td>\n",
              "      <td>231.63</td>\n",
              "      <td>6.7</td>\n",
              "    </tr>\n",
              "    <tr>\n",
              "      <th>130191</th>\n",
              "      <td>2019</td>\n",
              "      <td>SP</td>\n",
              "      <td>97.4</td>\n",
              "      <td>246.38</td>\n",
              "      <td>231.63</td>\n",
              "      <td>6.7</td>\n",
              "    </tr>\n",
              "    <tr>\n",
              "      <th>130192</th>\n",
              "      <td>2019</td>\n",
              "      <td>SP</td>\n",
              "      <td>99.6</td>\n",
              "      <td>245.08</td>\n",
              "      <td>227.11</td>\n",
              "      <td>6.7</td>\n",
              "    </tr>\n",
              "    <tr>\n",
              "      <th>130193</th>\n",
              "      <td>2019</td>\n",
              "      <td>SP</td>\n",
              "      <td>99.6</td>\n",
              "      <td>245.08</td>\n",
              "      <td>227.11</td>\n",
              "      <td>6.7</td>\n",
              "    </tr>\n",
              "  </tbody>\n",
              "</table>\n",
              "<p>12188 rows × 6 columns</p>\n",
              "</div>\n",
              "      <button class=\"colab-df-convert\" onclick=\"convertToInteractive('df-34947187-7bd7-47dd-a30c-7411c42c2e39')\"\n",
              "              title=\"Convert this dataframe to an interactive table.\"\n",
              "              style=\"display:none;\">\n",
              "        \n",
              "  <svg xmlns=\"http://www.w3.org/2000/svg\" height=\"24px\"viewBox=\"0 0 24 24\"\n",
              "       width=\"24px\">\n",
              "    <path d=\"M0 0h24v24H0V0z\" fill=\"none\"/>\n",
              "    <path d=\"M18.56 5.44l.94 2.06.94-2.06 2.06-.94-2.06-.94-.94-2.06-.94 2.06-2.06.94zm-11 1L8.5 8.5l.94-2.06 2.06-.94-2.06-.94L8.5 2.5l-.94 2.06-2.06.94zm10 10l.94 2.06.94-2.06 2.06-.94-2.06-.94-.94-2.06-.94 2.06-2.06.94z\"/><path d=\"M17.41 7.96l-1.37-1.37c-.4-.4-.92-.59-1.43-.59-.52 0-1.04.2-1.43.59L10.3 9.45l-7.72 7.72c-.78.78-.78 2.05 0 2.83L4 21.41c.39.39.9.59 1.41.59.51 0 1.02-.2 1.41-.59l7.78-7.78 2.81-2.81c.8-.78.8-2.07 0-2.86zM5.41 20L4 18.59l7.72-7.72 1.47 1.35L5.41 20z\"/>\n",
              "  </svg>\n",
              "      </button>\n",
              "      \n",
              "  <style>\n",
              "    .colab-df-container {\n",
              "      display:flex;\n",
              "      flex-wrap:wrap;\n",
              "      gap: 12px;\n",
              "    }\n",
              "\n",
              "    .colab-df-convert {\n",
              "      background-color: #E8F0FE;\n",
              "      border: none;\n",
              "      border-radius: 50%;\n",
              "      cursor: pointer;\n",
              "      display: none;\n",
              "      fill: #1967D2;\n",
              "      height: 32px;\n",
              "      padding: 0 0 0 0;\n",
              "      width: 32px;\n",
              "    }\n",
              "\n",
              "    .colab-df-convert:hover {\n",
              "      background-color: #E2EBFA;\n",
              "      box-shadow: 0px 1px 2px rgba(60, 64, 67, 0.3), 0px 1px 3px 1px rgba(60, 64, 67, 0.15);\n",
              "      fill: #174EA6;\n",
              "    }\n",
              "\n",
              "    [theme=dark] .colab-df-convert {\n",
              "      background-color: #3B4455;\n",
              "      fill: #D2E3FC;\n",
              "    }\n",
              "\n",
              "    [theme=dark] .colab-df-convert:hover {\n",
              "      background-color: #434B5C;\n",
              "      box-shadow: 0px 1px 3px 1px rgba(0, 0, 0, 0.15);\n",
              "      filter: drop-shadow(0px 1px 2px rgba(0, 0, 0, 0.3));\n",
              "      fill: #FFFFFF;\n",
              "    }\n",
              "  </style>\n",
              "\n",
              "      <script>\n",
              "        const buttonEl =\n",
              "          document.querySelector('#df-34947187-7bd7-47dd-a30c-7411c42c2e39 button.colab-df-convert');\n",
              "        buttonEl.style.display =\n",
              "          google.colab.kernel.accessAllowed ? 'block' : 'none';\n",
              "\n",
              "        async function convertToInteractive(key) {\n",
              "          const element = document.querySelector('#df-34947187-7bd7-47dd-a30c-7411c42c2e39');\n",
              "          const dataTable =\n",
              "            await google.colab.kernel.invokeFunction('convertToInteractive',\n",
              "                                                     [key], {});\n",
              "          if (!dataTable) return;\n",
              "\n",
              "          const docLinkHtml = 'Like what you see? Visit the ' +\n",
              "            '<a target=\"_blank\" href=https://colab.research.google.com/notebooks/data_table.ipynb>data table notebook</a>'\n",
              "            + ' to learn more about interactive tables.';\n",
              "          element.innerHTML = '';\n",
              "          dataTable['output_type'] = 'display_data';\n",
              "          await google.colab.output.renderOutput(dataTable, element);\n",
              "          const docLink = document.createElement('div');\n",
              "          docLink.innerHTML = docLinkHtml;\n",
              "          element.appendChild(docLink);\n",
              "        }\n",
              "      </script>\n",
              "    </div>\n",
              "  </div>\n",
              "  "
            ]
          },
          "metadata": {},
          "execution_count": 10
        }
      ]
    },
    {
      "cell_type": "code",
      "source": [
        "# selecting only the ideb scores for each state from the DataFrame created with only the data of 2019\n",
        "ideb_rs = ideb_2019.loc[ideb_2019['sigla_uf'] == 'RS', ['ideb']]\n",
        "ideb_ce = ideb_2019.loc[ideb_2019['sigla_uf'] == 'CE', ['ideb']]"
      ],
      "metadata": {
        "id": "SAyH-5GsOWEK"
      },
      "execution_count": 13,
      "outputs": []
    },
    {
      "cell_type": "code",
      "source": [
        "# importing the function of t test ind from the package Scipy\n",
        "from scipy.stats import ttest_ind"
      ],
      "metadata": {
        "id": "lNMs3qOQHVtZ"
      },
      "execution_count": 14,
      "outputs": []
    },
    {
      "cell_type": "code",
      "source": [
        "# using scipy.stats.ttest_ind to test the hypothesis\n",
        "ttest_ind(ideb_rs, ideb_ce, equal_var=False)"
      ],
      "metadata": {
        "colab": {
          "base_uri": "https://localhost:8080/"
        },
        "id": "ZnNkiSVuL1AS",
        "outputId": "1a3af2a3-5d77-4772-88b3-f1d7c2d752b9"
      },
      "execution_count": 15,
      "outputs": [
        {
          "output_type": "execute_result",
          "data": {
            "text/plain": [
              "Ttest_indResult(statistic=array([-3.95413028]), pvalue=array([8.67340091e-05]))"
            ]
          },
          "metadata": {},
          "execution_count": 15
        }
      ]
    },
    {
      "cell_type": "markdown",
      "source": [
        "**Answer**: The result of the ind *t* test gives a p-value of 8.67340091e-05, which is below 0,05. This shows strong evidence that the null hypothesis should be rejected, i.e., **the ideb score average for Rio Grande do Sul and Ceará in 2019 are different**."
      ],
      "metadata": {
        "id": "_aQCIee8UlQ2"
      }
    },
    {
      "cell_type": "markdown",
      "source": [
        "### Activity 5: Based on the previous *t* test, create a boxplot graphic and compare the graphics of both states."
      ],
      "metadata": {
        "id": "8uxllG0pIBeA"
      }
    },
    {
      "cell_type": "code",
      "source": [
        "# creating two DataFrames with the data of each state\n",
        "df_RS = ideb_2019[ideb_2019['sigla_uf'] == 'RS']\n",
        "\n",
        "df_CE = ideb_2019[ideb_2019['sigla_uf'] == 'CE']"
      ],
      "metadata": {
        "id": "fwGcJ7fNZpE-"
      },
      "execution_count": 16,
      "outputs": []
    },
    {
      "cell_type": "code",
      "source": [
        "# merging both DataFrames\n",
        "df_final = pd.concat([df_RS, df_CE])"
      ],
      "metadata": {
        "id": "Lz-FYQhtWzwN"
      },
      "execution_count": 17,
      "outputs": []
    },
    {
      "cell_type": "code",
      "source": [
        "# importing seaborn library and creating the boxplot graphs\n",
        "import seaborn as sns\n",
        "sns.boxplot(x=df_final['sigla_uf'], y=df_final['ideb']);"
      ],
      "metadata": {
        "colab": {
          "base_uri": "https://localhost:8080/",
          "height": 450
        },
        "id": "Vs4ObZk0VmC1",
        "outputId": "ff4e6d9e-5aa6-44dc-8ed5-fdb6fe682615"
      },
      "execution_count": 18,
      "outputs": [
        {
          "output_type": "display_data",
          "data": {
            "text/plain": [
              "<Figure size 640x480 with 1 Axes>"
            ],
            "image/png": "[encoded data removed]"
          },
          "metadata": {}
        }
      ]
    },
    {
      "cell_type": "markdown",
      "source": [
        "**Answer**: The graphs show that the averages of the states are similar, but not the same. The following method shows the exact number of the means for each state, which confirms the boxplot graphs interpretation: 6.158818 for Rio Grande do Sul (RS) and 6.356836 for Ceará (CE)."
      ],
      "metadata": {
        "id": "zV9WCXiyVzhm"
      }
    },
    {
      "cell_type": "code",
      "source": [
        "df_RS['ideb'].describe()"
      ],
      "metadata": {
        "colab": {
          "base_uri": "https://localhost:8080/"
        },
        "id": "3s5VITlo1bdf",
        "outputId": "505a0f42-5de3-44c3-a781-d75e0cafa8e3"
      },
      "execution_count": 19,
      "outputs": [
        {
          "output_type": "execute_result",
          "data": {
            "text/plain": [
              "count    1117.000000\n",
              "mean        6.158818\n",
              "std         0.728408\n",
              "min         3.800000\n",
              "25%         5.700000\n",
              "50%         6.200000\n",
              "75%         6.600000\n",
              "max         8.400000\n",
              "Name: ideb, dtype: float64"
            ]
          },
          "metadata": {},
          "execution_count": 19
        }
      ]
    },
    {
      "cell_type": "code",
      "source": [
        "df_CE['ideb'].describe()"
      ],
      "metadata": {
        "colab": {
          "base_uri": "https://localhost:8080/"
        },
        "id": "Ceqd6bHv1ffw",
        "outputId": "350594bf-2d42-4b3e-b33f-287d3e60e4e2"
      },
      "execution_count": 20,
      "outputs": [
        {
          "output_type": "execute_result",
          "data": {
            "text/plain": [
              "count    373.000000\n",
              "mean       6.356836\n",
              "std        0.870785\n",
              "min        3.900000\n",
              "25%        5.800000\n",
              "50%        6.200000\n",
              "75%        6.800000\n",
              "max        9.400000\n",
              "Name: ideb, dtype: float64"
            ]
          },
          "metadata": {},
          "execution_count": 20
        }
      ]
    },
    {
      "cell_type": "markdown",
      "source": [
        "# *t* test on two related variables"
      ],
      "metadata": {
        "id": "jWs8Vm8h3lae"
      }
    },
    {
      "cell_type": "markdown",
      "source": [
        "### Activity 6: Test the following hypothesis:ideb scores average for the years of 2005 and 2019 are the same. Consider a confidence level of 95%."
      ],
      "metadata": {
        "id": "VTgadqJqIUWt"
      }
    },
    {
      "cell_type": "markdown",
      "source": [
        "$$H_0: \\mu_1 = \\mu_2$$\n",
        "\n",
        "$$H_1: \\mu_1 \\neq \\mu_2$$\n",
        "\n",
        "$$α = 0,05$$\n",
        "\n",
        "$\\mu_1 = 2005$\n",
        "\n",
        "$\\mu_2 = 2019$"
      ],
      "metadata": {
        "id": "-9IWK5dkXv5e"
      }
    },
    {
      "cell_type": "code",
      "source": [
        "# creating one DataFrame for each year, using only the first 300 rows and droping missing data if any\n",
        "df_2005 = ideb[ideb['ano'] == 2005].iloc[:300, ].dropna()\n",
        "df_2019 = ideb[ideb['ano'] == 2019].iloc[:300, ].dropna()"
      ],
      "metadata": {
        "id": "MDqP4xvRIPOt"
      },
      "execution_count": 21,
      "outputs": []
    },
    {
      "cell_type": "code",
      "source": [
        "# importing the function of t-test on two related variables from the package Scipy\n",
        "from scipy.stats import ttest_rel"
      ],
      "metadata": {
        "id": "F-TKIa3Oao0O"
      },
      "execution_count": 22,
      "outputs": []
    },
    {
      "cell_type": "code",
      "source": [
        "# using scipy.stats.ttest_rel to test the hypothesis\n",
        "ttest_rel(df_2005['ideb'], df_2019['ideb'])"
      ],
      "metadata": {
        "colab": {
          "base_uri": "https://localhost:8080/"
        },
        "id": "T3icBGOUa1X2",
        "outputId": "d2d3b6ad-467a-4024-ade8-066cdbde0ed4"
      },
      "execution_count": 23,
      "outputs": [
        {
          "output_type": "execute_result",
          "data": {
            "text/plain": [
              "TtestResult(statistic=-163.87518962388705, pvalue=8.329734374233758e-295, df=299)"
            ]
          },
          "metadata": {},
          "execution_count": 23
        }
      ]
    },
    {
      "cell_type": "markdown",
      "source": [
        "**Answer**: The result of the ind *t* test gives a p-value of 8.329734374233758e-295, which is below 0,05. This shows strong evidence that the null hypothesis should be rejected, i.e., **the ideb score average for 2005 and 2019 are different**."
      ],
      "metadata": {
        "id": "bvL3o80cYWue"
      }
    },
    {
      "cell_type": "markdown",
      "source": [
        "### Activity 7: Based on the previous *t* test, create a boxplot graphic and compare the graphics of both years."
      ],
      "metadata": {
        "id": "NtEjca_OIc4w"
      }
    },
    {
      "cell_type": "code",
      "source": [
        "# merging the DataFrames of both years and creating the graph\n",
        "df_final_2 = pd.concat([df_2005, df_2019])\n",
        "sns.boxplot(x=df_final_2['ano'], y=df_final_2['ideb']);"
      ],
      "metadata": {
        "id": "2k4C6scGIPKF",
        "colab": {
          "base_uri": "https://localhost:8080/",
          "height": 449
        },
        "outputId": "33b8222d-0187-440a-afc3-84993997cae4"
      },
      "execution_count": 24,
      "outputs": [
        {
          "output_type": "display_data",
          "data": {
            "text/plain": [
              "<Figure size 640x480 with 1 Axes>"
            ],
            "image/png": "[encoded data removed]"
          },
          "metadata": {}
        }
      ]
    },
    {
      "cell_type": "markdown",
      "source": [
        "**Answer**: The averages of the years of 2005 and 2019 are clearly very different.\n",
        "\n"
      ],
      "metadata": {
        "id": "EdewQXhwY1-O"
      }
    },
    {
      "cell_type": "markdown",
      "source": [
        "# Analysis of Variance (ANOVA) One-Way"
      ],
      "metadata": {
        "id": "v-8erEq45GOr"
      }
    },
    {
      "cell_type": "markdown",
      "source": [
        "### Activity 8: Compare the ideb score of the three southern states in 2019, and check which ones can be considered the same. Consider a confidence level of 95%."
      ],
      "metadata": {
        "id": "u7Zs62g3mY4E"
      }
    },
    {
      "cell_type": "markdown",
      "source": [
        "$$H_0: \\mu_1 = \\mu_2 = \\mu_3$$\n",
        "\n",
        "$$H_1: \\mu_1 \\neq \\mu_2 = \\mu_3$$\n",
        "$$...$$\n",
        "$$α = 0,05$$"
      ],
      "metadata": {
        "id": "mfGMmh3pZJce"
      }
    },
    {
      "cell_type": "code",
      "source": [
        "# creating three DataFrames for each state\n",
        "df_PR = ideb_2019[ideb_2019['sigla_uf'] == 'PR']\n",
        "df_SC = ideb_2019[ideb_2019['sigla_uf'] == 'SC']\n",
        "df_RS = ideb_2019[ideb_2019['sigla_uf'] == 'RS']"
      ],
      "metadata": {
        "id": "mx-4oq-3hHS6"
      },
      "execution_count": 25,
      "outputs": []
    },
    {
      "cell_type": "code",
      "source": [
        "# importing the f_oneway function from the package Scipy\n",
        "from scipy.stats import f_oneway"
      ],
      "metadata": {
        "id": "6aDPYkGJh_W4"
      },
      "execution_count": 26,
      "outputs": []
    },
    {
      "cell_type": "code",
      "source": [
        "# using scipy.stats.f_oneway to test the hypothesis\n",
        "f_oneway(df_PR['ideb'],\n",
        "         df_SC['ideb'],\n",
        "         df_RS['ideb'])"
      ],
      "metadata": {
        "colab": {
          "base_uri": "https://localhost:8080/"
        },
        "id": "NejngrTLiC5x",
        "outputId": "60bd9d44-aaf8-487f-9ee2-b10175f69b2f"
      },
      "execution_count": 27,
      "outputs": [
        {
          "output_type": "execute_result",
          "data": {
            "text/plain": [
              "F_onewayResult(statistic=27.712354138245196, pvalue=1.2331589284254783e-12)"
            ]
          },
          "metadata": {},
          "execution_count": 27
        }
      ]
    },
    {
      "cell_type": "markdown",
      "source": [
        "**Answer**: The result of the anova test gives a p-value of 1.2331589284254783e-12, which is below 0,05. This shows strong evidence that the null hypothesis should be rejected, i.e., **the ideb score average for at least one of the three states is different**."
      ],
      "metadata": {
        "id": "Lock6uInaN_u"
      }
    },
    {
      "cell_type": "markdown",
      "source": [
        "### Activity 9: Create a boxplot graphic and compare the graphics of the three states."
      ],
      "metadata": {
        "id": "5fLIsXvgV5Z9"
      }
    },
    {
      "cell_type": "code",
      "source": [
        "# merging the DataFrames of the three states and creating the graphs\n",
        "df_final_3 = pd.concat([df_PR, df_SC,df_RS])\n",
        "sns.boxplot(x=df_final_3['sigla_uf'], y=df_final_3['ideb']);"
      ],
      "metadata": {
        "id": "XOUnpMm6Vqsm",
        "colab": {
          "base_uri": "https://localhost:8080/",
          "height": 452
        },
        "outputId": "cef9e0dc-a997-4464-9b32-0022137fdb65"
      },
      "execution_count": 28,
      "outputs": [
        {
          "output_type": "display_data",
          "data": {
            "text/plain": [
              "<Figure size 640x480 with 1 Axes>"
            ],
            "image/png": "[encoded data removed]"
          },
          "metadata": {}
        }
      ]
    },
    {
      "cell_type": "code",
      "source": [
        "df_PR['ideb'].describe()"
      ],
      "metadata": {
        "colab": {
          "base_uri": "https://localhost:8080/"
        },
        "id": "H9d3NvfNaei2",
        "outputId": "a26884d3-884c-46f6-b72e-d8a363b3eca6"
      },
      "execution_count": null,
      "outputs": [
        {
          "output_type": "execute_result",
          "data": {
            "text/plain": [
              "count    796.000000\n",
              "mean       6.388191\n",
              "std        0.645905\n",
              "min        4.800000\n",
              "25%        6.000000\n",
              "50%        6.350000\n",
              "75%        6.800000\n",
              "max        8.800000\n",
              "Name: ideb, dtype: float64"
            ]
          },
          "metadata": {},
          "execution_count": 39
        }
      ]
    },
    {
      "cell_type": "markdown",
      "source": [
        "**Answer**: The averages of the states are similar, but not the same, Paraná (PR)'s average being the highest."
      ],
      "metadata": {
        "id": "2n-iuW6G7tFo"
      }
    },
    {
      "cell_type": "code",
      "source": [
        "# confirming the mean numbers\n",
        "df_SC['ideb'].describe()"
      ],
      "metadata": {
        "colab": {
          "base_uri": "https://localhost:8080/"
        },
        "id": "3nbnesUbalve",
        "outputId": "dd8b73d0-2596-4a34-9eb1-8a471b128f23"
      },
      "execution_count": 29,
      "outputs": [
        {
          "output_type": "execute_result",
          "data": {
            "text/plain": [
              "count    693.000000\n",
              "mean       6.275902\n",
              "std        0.583773\n",
              "min        4.700000\n",
              "25%        5.900000\n",
              "50%        6.300000\n",
              "75%        6.700000\n",
              "max        8.400000\n",
              "Name: ideb, dtype: float64"
            ]
          },
          "metadata": {},
          "execution_count": 29
        }
      ]
    },
    {
      "cell_type": "code",
      "source": [
        "df_RS['ideb'].describe()"
      ],
      "metadata": {
        "colab": {
          "base_uri": "https://localhost:8080/"
        },
        "id": "x4gZSE_uapgu",
        "outputId": "942e8908-7fd5-4eb7-9788-60ec73cd485b"
      },
      "execution_count": 30,
      "outputs": [
        {
          "output_type": "execute_result",
          "data": {
            "text/plain": [
              "count    1117.000000\n",
              "mean        6.158818\n",
              "std         0.728408\n",
              "min         3.800000\n",
              "25%         5.700000\n",
              "50%         6.200000\n",
              "75%         6.600000\n",
              "max         8.400000\n",
              "Name: ideb, dtype: float64"
            ]
          },
          "metadata": {},
          "execution_count": 30
        }
      ]
    },
    {
      "cell_type": "markdown",
      "source": [
        "### Activity 10: Perform a post-hoc test to verify if the state of Santa Catarina (SC)'s average is different from the others."
      ],
      "metadata": {
        "id": "YY9W9g4YWAwO"
      }
    },
    {
      "cell_type": "markdown",
      "source": [
        "The Tukey test is a way to determine whether there is a significant difference in one of the variable's average."
      ],
      "metadata": {
        "id": "YFomKb0m8v60"
      }
    },
    {
      "cell_type": "code",
      "source": [
        "# importing the function pairwise_tukeyhsd\n",
        "from statsmodels.stats.multicomp import pairwise_tukeyhsd"
      ],
      "metadata": {
        "id": "QPJJtASBjNTp"
      },
      "execution_count": 31,
      "outputs": []
    },
    {
      "cell_type": "code",
      "source": [
        "# showing result of the Tukey test\n",
        "print(pairwise_tukeyhsd(endog = df_final_3['ideb'],\n",
        "                groups = df_final_3['sigla_uf'],\n",
        "                alpha = 0.05))"
      ],
      "metadata": {
        "id": "29zRyt51jqna",
        "outputId": "fe715f41-8b9f-4931-d959-9c78366c7718",
        "colab": {
          "base_uri": "https://localhost:8080/"
        }
      },
      "execution_count": 32,
      "outputs": [
        {
          "output_type": "stream",
          "name": "stdout",
          "text": [
            "Multiple Comparison of Means - Tukey HSD, FWER=0.05 \n",
            "====================================================\n",
            "group1 group2 meandiff p-adj   lower   upper  reject\n",
            "----------------------------------------------------\n",
            "    PR     RS  -0.2294    0.0  -0.302 -0.1568   True\n",
            "    PR     SC  -0.1123 0.0035 -0.1936  -0.031   True\n",
            "    RS     SC   0.1171 0.0009  0.0414  0.1928   True\n",
            "----------------------------------------------------\n"
          ]
        }
      ]
    },
    {
      "cell_type": "markdown",
      "source": [
        "**Answer**: The test shows that the null hypothesis of whether the averages are the same should be rejected. Thus, all the states are different."
      ],
      "metadata": {
        "id": "5W16z0STb2cG"
      }
    }
  ]
}